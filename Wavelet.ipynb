{
 "cells": [
  {
   "cell_type": "code",
   "execution_count": 1,
   "metadata": {
    "collapsed": true
   },
   "outputs": [],
   "source": [
    "import numpy as np \n",
    "import pywt\n",
    "import cv2\n",
    "import os\n",
    "import glob"
   ]
  },
  {
   "cell_type": "code",
   "execution_count": 2,
   "metadata": {},
   "outputs": [
    {
     "name": "stdout",
     "output_type": "stream",
     "text": [
      "['PalmVein\\\\001_l_940_01.jpg', 'PalmVein\\\\001_l_940_02.jpg', 'PalmVein\\\\001_l_940_03.jpg', 'PalmVein\\\\001_l_940_04.jpg', 'PalmVein\\\\001_l_940_05.jpg', 'PalmVein\\\\001_l_940_06.jpg', 'PalmVein\\\\002_l_940_01.jpg', 'PalmVein\\\\002_l_940_02.jpg', 'PalmVein\\\\002_l_940_03.jpg', 'PalmVein\\\\002_l_940_04.jpg', 'PalmVein\\\\002_l_940_05.jpg', 'PalmVein\\\\002_l_940_06.jpg', 'PalmVein\\\\003_l_940_01.jpg', 'PalmVein\\\\003_l_940_02.jpg', 'PalmVein\\\\003_l_940_03.jpg', 'PalmVein\\\\003_l_940_04.jpg', 'PalmVein\\\\003_l_940_05.jpg', 'PalmVein\\\\003_l_940_06.jpg', 'PalmVein\\\\004_l_940_01.jpg', 'PalmVein\\\\004_l_940_02.jpg', 'PalmVein\\\\004_l_940_03.jpg', 'PalmVein\\\\004_l_940_04.jpg', 'PalmVein\\\\004_l_940_05.jpg', 'PalmVein\\\\004_l_940_06.jpg', 'PalmVein\\\\005_l_940_01.jpg', 'PalmVein\\\\005_l_940_02.jpg', 'PalmVein\\\\005_l_940_03.jpg', 'PalmVein\\\\005_l_940_04.jpg', 'PalmVein\\\\005_l_940_05.jpg', 'PalmVein\\\\005_l_940_06.jpg', 'PalmVein\\\\006_l_940_01.jpg', 'PalmVein\\\\006_l_940_02.jpg', 'PalmVein\\\\006_l_940_03.jpg', 'PalmVein\\\\006_l_940_04.jpg', 'PalmVein\\\\006_l_940_05.jpg', 'PalmVein\\\\006_l_940_06.jpg', 'PalmVein\\\\007_l_940_01.jpg', 'PalmVein\\\\007_l_940_02.jpg', 'PalmVein\\\\007_l_940_03.jpg', 'PalmVein\\\\007_l_940_04.jpg', 'PalmVein\\\\007_l_940_05.jpg', 'PalmVein\\\\007_l_940_06.jpg', 'PalmVein\\\\008_l_940_01.jpg', 'PalmVein\\\\008_l_940_02.jpg', 'PalmVein\\\\008_l_940_03.jpg', 'PalmVein\\\\008_l_940_04.jpg', 'PalmVein\\\\008_l_940_05.jpg', 'PalmVein\\\\008_l_940_06.jpg', 'PalmVein\\\\009_l_940_01.jpg', 'PalmVein\\\\009_l_940_02.jpg', 'PalmVein\\\\009_l_940_03.jpg', 'PalmVein\\\\009_l_940_04.jpg', 'PalmVein\\\\009_l_940_05.jpg', 'PalmVein\\\\009_l_940_06.jpg', 'PalmVein\\\\010_l_940_01.jpg', 'PalmVein\\\\010_l_940_02.jpg', 'PalmVein\\\\010_l_940_03.jpg', 'PalmVein\\\\010_l_940_04.jpg', 'PalmVein\\\\010_l_940_05.jpg', 'PalmVein\\\\010_l_940_06.jpg', 'PalmVein\\\\011_l_940_01.jpg', 'PalmVein\\\\011_l_940_02.jpg', 'PalmVein\\\\011_l_940_03.jpg', 'PalmVein\\\\011_l_940_04.jpg', 'PalmVein\\\\011_l_940_05.jpg', 'PalmVein\\\\011_l_940_06.jpg', 'PalmVein\\\\012_l_940_01.jpg', 'PalmVein\\\\012_l_940_02.jpg', 'PalmVein\\\\012_l_940_03.jpg', 'PalmVein\\\\012_l_940_04.jpg', 'PalmVein\\\\012_l_940_05.jpg', 'PalmVein\\\\012_l_940_06.jpg', 'PalmVein\\\\013_l_940_01.jpg', 'PalmVein\\\\013_l_940_02.jpg', 'PalmVein\\\\013_l_940_03.jpg', 'PalmVein\\\\013_l_940_04.jpg', 'PalmVein\\\\013_l_940_05.jpg', 'PalmVein\\\\013_l_940_06.jpg', 'PalmVein\\\\014_l_940_01.jpg', 'PalmVein\\\\014_l_940_02.jpg', 'PalmVein\\\\014_l_940_03.jpg', 'PalmVein\\\\014_l_940_04.jpg', 'PalmVein\\\\014_l_940_05.jpg', 'PalmVein\\\\014_l_940_06.jpg', 'PalmVein\\\\015_l_940_01.jpg', 'PalmVein\\\\015_l_940_02.jpg', 'PalmVein\\\\015_l_940_03.jpg', 'PalmVein\\\\015_l_940_04.jpg', 'PalmVein\\\\015_l_940_05.jpg', 'PalmVein\\\\015_l_940_06.jpg', 'PalmVein\\\\016_l_940_01.jpg', 'PalmVein\\\\016_l_940_02.jpg', 'PalmVein\\\\016_l_940_03.jpg', 'PalmVein\\\\016_l_940_04.jpg', 'PalmVein\\\\016_l_940_05.jpg', 'PalmVein\\\\016_l_940_06.jpg', 'PalmVein\\\\017_l_940_01.jpg', 'PalmVein\\\\017_l_940_02.jpg', 'PalmVein\\\\017_l_940_03.jpg', 'PalmVein\\\\017_l_940_04.jpg', 'PalmVein\\\\017_l_940_05.jpg', 'PalmVein\\\\017_l_940_06.jpg', 'PalmVein\\\\018_l_940_01.jpg', 'PalmVein\\\\018_l_940_02.jpg', 'PalmVein\\\\018_l_940_03.jpg', 'PalmVein\\\\018_l_940_04.jpg', 'PalmVein\\\\018_l_940_05.jpg', 'PalmVein\\\\018_l_940_06.jpg', 'PalmVein\\\\019_l_940_01.jpg', 'PalmVein\\\\019_l_940_02.jpg', 'PalmVein\\\\019_l_940_03.jpg', 'PalmVein\\\\019_l_940_04.jpg', 'PalmVein\\\\019_l_940_05.jpg', 'PalmVein\\\\019_l_940_06.jpg', 'PalmVein\\\\020_l_940_01.jpg', 'PalmVein\\\\020_l_940_02.jpg', 'PalmVein\\\\020_l_940_03.jpg', 'PalmVein\\\\020_l_940_04.jpg', 'PalmVein\\\\020_l_940_05.jpg', 'PalmVein\\\\020_l_940_06.jpg', 'PalmVein\\\\021_l_940_01.jpg', 'PalmVein\\\\021_l_940_02.jpg', 'PalmVein\\\\021_l_940_03.jpg', 'PalmVein\\\\021_l_940_04.jpg', 'PalmVein\\\\021_l_940_05.jpg', 'PalmVein\\\\021_l_940_06.jpg', 'PalmVein\\\\022_l_940_01.jpg', 'PalmVein\\\\022_l_940_02.jpg', 'PalmVein\\\\022_l_940_03.jpg', 'PalmVein\\\\022_l_940_04.jpg', 'PalmVein\\\\022_l_940_05.jpg', 'PalmVein\\\\022_l_940_06.jpg', 'PalmVein\\\\023_l_940_01.jpg', 'PalmVein\\\\023_l_940_02.jpg', 'PalmVein\\\\023_l_940_03.jpg', 'PalmVein\\\\023_l_940_04.jpg', 'PalmVein\\\\023_l_940_05.jpg', 'PalmVein\\\\023_l_940_06.jpg', 'PalmVein\\\\024_l_940_01.jpg', 'PalmVein\\\\024_l_940_02.jpg', 'PalmVein\\\\024_l_940_03.jpg', 'PalmVein\\\\024_l_940_04.jpg', 'PalmVein\\\\024_l_940_05.jpg', 'PalmVein\\\\024_l_940_06.jpg', 'PalmVein\\\\025_l_940_01.jpg', 'PalmVein\\\\025_l_940_02.jpg', 'PalmVein\\\\025_l_940_03.jpg', 'PalmVein\\\\025_l_940_04.jpg', 'PalmVein\\\\025_l_940_05.jpg', 'PalmVein\\\\025_l_940_06.jpg', 'PalmVein\\\\026_l_940_01.jpg', 'PalmVein\\\\026_l_940_02.jpg', 'PalmVein\\\\026_l_940_03.jpg', 'PalmVein\\\\026_l_940_04.jpg', 'PalmVein\\\\026_l_940_05.jpg', 'PalmVein\\\\026_l_940_06.jpg', 'PalmVein\\\\027_l_940_01.jpg', 'PalmVein\\\\027_l_940_02.jpg', 'PalmVein\\\\027_l_940_03.jpg', 'PalmVein\\\\027_l_940_04.jpg', 'PalmVein\\\\027_l_940_05.jpg', 'PalmVein\\\\027_l_940_06.jpg', 'PalmVein\\\\028_l_940_01.jpg', 'PalmVein\\\\028_l_940_02.jpg', 'PalmVein\\\\028_l_940_03.jpg', 'PalmVein\\\\028_l_940_04.jpg', 'PalmVein\\\\028_l_940_05.jpg', 'PalmVein\\\\028_l_940_06.jpg', 'PalmVein\\\\029_l_940_01.jpg', 'PalmVein\\\\029_l_940_02.jpg', 'PalmVein\\\\029_l_940_03.jpg', 'PalmVein\\\\029_l_940_04.jpg', 'PalmVein\\\\029_l_940_05.jpg', 'PalmVein\\\\029_l_940_06.jpg', 'PalmVein\\\\030_l_940_01.jpg', 'PalmVein\\\\030_l_940_02.jpg', 'PalmVein\\\\030_l_940_03.jpg', 'PalmVein\\\\030_l_940_04.jpg', 'PalmVein\\\\030_l_940_05.jpg', 'PalmVein\\\\030_l_940_06.jpg', 'PalmVein\\\\031_l_940_01.jpg', 'PalmVein\\\\031_l_940_02.jpg', 'PalmVein\\\\031_l_940_03.jpg', 'PalmVein\\\\031_l_940_04.jpg', 'PalmVein\\\\031_l_940_05.jpg', 'PalmVein\\\\031_l_940_06.jpg', 'PalmVein\\\\032_l_940_01.jpg', 'PalmVein\\\\032_l_940_02.jpg', 'PalmVein\\\\032_l_940_03.jpg', 'PalmVein\\\\032_l_940_04.jpg', 'PalmVein\\\\032_l_940_05.jpg', 'PalmVein\\\\032_l_940_06.jpg', 'PalmVein\\\\033_l_940_01.jpg', 'PalmVein\\\\033_l_940_02.jpg', 'PalmVein\\\\033_l_940_03.jpg', 'PalmVein\\\\033_l_940_04.jpg', 'PalmVein\\\\033_l_940_05.jpg', 'PalmVein\\\\033_l_940_06.jpg', 'PalmVein\\\\034_l_940_01.jpg', 'PalmVein\\\\034_l_940_02.jpg', 'PalmVein\\\\034_l_940_03.jpg', 'PalmVein\\\\034_l_940_04.jpg', 'PalmVein\\\\034_l_940_05.jpg', 'PalmVein\\\\034_l_940_06.jpg', 'PalmVein\\\\035_l_940_01.jpg', 'PalmVein\\\\035_l_940_02.jpg', 'PalmVein\\\\035_l_940_03.jpg', 'PalmVein\\\\035_l_940_04.jpg', 'PalmVein\\\\035_l_940_05.jpg', 'PalmVein\\\\035_l_940_06.jpg', 'PalmVein\\\\036_l_940_01.jpg', 'PalmVein\\\\036_l_940_02.jpg', 'PalmVein\\\\036_l_940_03.jpg', 'PalmVein\\\\036_l_940_04.jpg', 'PalmVein\\\\036_l_940_05.jpg', 'PalmVein\\\\036_l_940_06.jpg', 'PalmVein\\\\037_l_940_01.jpg', 'PalmVein\\\\037_l_940_02.jpg', 'PalmVein\\\\037_l_940_03.jpg', 'PalmVein\\\\037_l_940_04.jpg', 'PalmVein\\\\037_l_940_05.jpg', 'PalmVein\\\\037_l_940_06.jpg', 'PalmVein\\\\038_l_940_01.jpg', 'PalmVein\\\\038_l_940_02.jpg', 'PalmVein\\\\038_l_940_03.jpg', 'PalmVein\\\\038_l_940_04.jpg', 'PalmVein\\\\038_l_940_05.jpg', 'PalmVein\\\\038_l_940_06.jpg', 'PalmVein\\\\039_l_940_01.jpg', 'PalmVein\\\\039_l_940_02.jpg', 'PalmVein\\\\039_l_940_03.jpg', 'PalmVein\\\\039_l_940_04.jpg', 'PalmVein\\\\039_l_940_05.jpg', 'PalmVein\\\\039_l_940_06.jpg', 'PalmVein\\\\040_l_940_01.jpg', 'PalmVein\\\\040_l_940_02.jpg', 'PalmVein\\\\040_l_940_03.jpg', 'PalmVein\\\\040_l_940_04.jpg', 'PalmVein\\\\040_l_940_05.jpg', 'PalmVein\\\\040_l_940_06.jpg', 'PalmVein\\\\041_l_940_01.jpg', 'PalmVein\\\\041_l_940_02.jpg', 'PalmVein\\\\041_l_940_03.jpg', 'PalmVein\\\\041_l_940_04.jpg', 'PalmVein\\\\041_l_940_05.jpg', 'PalmVein\\\\041_l_940_06.jpg', 'PalmVein\\\\042_l_940_01.jpg', 'PalmVein\\\\042_l_940_02.jpg', 'PalmVein\\\\042_l_940_03.jpg', 'PalmVein\\\\042_l_940_04.jpg', 'PalmVein\\\\042_l_940_05.jpg', 'PalmVein\\\\042_l_940_06.jpg', 'PalmVein\\\\043_l_940_01.jpg', 'PalmVein\\\\043_l_940_02.jpg', 'PalmVein\\\\043_l_940_03.jpg', 'PalmVein\\\\043_l_940_04.jpg', 'PalmVein\\\\043_l_940_05.jpg', 'PalmVein\\\\043_l_940_06.jpg', 'PalmVein\\\\044_l_940_01.jpg', 'PalmVein\\\\044_l_940_02.jpg', 'PalmVein\\\\044_l_940_03.jpg', 'PalmVein\\\\044_l_940_04.jpg', 'PalmVein\\\\044_l_940_05.jpg', 'PalmVein\\\\044_l_940_06.jpg', 'PalmVein\\\\045_l_940_01.jpg', 'PalmVein\\\\045_l_940_02.jpg', 'PalmVein\\\\045_l_940_03.jpg', 'PalmVein\\\\045_l_940_04.jpg', 'PalmVein\\\\045_l_940_05.jpg', 'PalmVein\\\\045_l_940_06.jpg', 'PalmVein\\\\046_l_940_01.jpg', 'PalmVein\\\\046_l_940_02.jpg', 'PalmVein\\\\046_l_940_03.jpg', 'PalmVein\\\\046_l_940_04.jpg', 'PalmVein\\\\046_l_940_05.jpg', 'PalmVein\\\\046_l_940_06.jpg', 'PalmVein\\\\047_l_940_01.jpg', 'PalmVein\\\\047_l_940_02.jpg', 'PalmVein\\\\047_l_940_03.jpg', 'PalmVein\\\\047_l_940_04.jpg', 'PalmVein\\\\047_l_940_05.jpg', 'PalmVein\\\\047_l_940_06.jpg', 'PalmVein\\\\048_l_940_01.jpg', 'PalmVein\\\\048_l_940_02.jpg', 'PalmVein\\\\048_l_940_03.jpg', 'PalmVein\\\\048_l_940_04.jpg', 'PalmVein\\\\048_l_940_05.jpg', 'PalmVein\\\\048_l_940_06.jpg', 'PalmVein\\\\049_l_940_01.jpg', 'PalmVein\\\\049_l_940_02.jpg', 'PalmVein\\\\049_l_940_03.jpg', 'PalmVein\\\\049_l_940_04.jpg', 'PalmVein\\\\049_l_940_05.jpg', 'PalmVein\\\\049_l_940_06.jpg', 'PalmVein\\\\050_l_940_01.jpg', 'PalmVein\\\\050_l_940_02.jpg', 'PalmVein\\\\050_l_940_03.jpg', 'PalmVein\\\\050_l_940_04.jpg', 'PalmVein\\\\050_l_940_05.jpg', 'PalmVein\\\\050_l_940_06.jpg', 'PalmVein\\\\051_l_940_01.jpg', 'PalmVein\\\\051_l_940_02.jpg', 'PalmVein\\\\051_l_940_03.jpg', 'PalmVein\\\\051_l_940_04.jpg', 'PalmVein\\\\051_l_940_05.jpg', 'PalmVein\\\\051_l_940_06.jpg', 'PalmVein\\\\052_l_940_01.jpg', 'PalmVein\\\\052_l_940_02.jpg', 'PalmVein\\\\052_l_940_03.jpg', 'PalmVein\\\\052_l_940_04.jpg', 'PalmVein\\\\052_l_940_05.jpg', 'PalmVein\\\\052_l_940_06.jpg', 'PalmVein\\\\053_l_940_01.jpg', 'PalmVein\\\\053_l_940_02.jpg', 'PalmVein\\\\053_l_940_03.jpg', 'PalmVein\\\\053_l_940_04.jpg', 'PalmVein\\\\053_l_940_05.jpg', 'PalmVein\\\\053_l_940_06.jpg', 'PalmVein\\\\054_l_940_01.jpg', 'PalmVein\\\\054_l_940_02.jpg', 'PalmVein\\\\054_l_940_03.jpg', 'PalmVein\\\\054_l_940_04.jpg', 'PalmVein\\\\054_l_940_05.jpg', 'PalmVein\\\\054_l_940_06.jpg', 'PalmVein\\\\055_l_940_01.jpg', 'PalmVein\\\\055_l_940_02.jpg', 'PalmVein\\\\055_l_940_03.jpg', 'PalmVein\\\\055_l_940_04.jpg', 'PalmVein\\\\055_l_940_05.jpg', 'PalmVein\\\\055_l_940_06.jpg', 'PalmVein\\\\056_l_940_01.jpg', 'PalmVein\\\\056_l_940_02.jpg', 'PalmVein\\\\056_l_940_03.jpg', 'PalmVein\\\\056_l_940_04.jpg', 'PalmVein\\\\056_l_940_05.jpg', 'PalmVein\\\\056_l_940_06.jpg', 'PalmVein\\\\057_l_940_01.jpg', 'PalmVein\\\\057_l_940_02.jpg', 'PalmVein\\\\057_l_940_03.jpg', 'PalmVein\\\\057_l_940_04.jpg', 'PalmVein\\\\057_l_940_05.jpg', 'PalmVein\\\\057_l_940_06.jpg', 'PalmVein\\\\058_l_940_01.jpg', 'PalmVein\\\\058_l_940_02.jpg', 'PalmVein\\\\058_l_940_03.jpg', 'PalmVein\\\\058_l_940_04.jpg', 'PalmVein\\\\058_l_940_05.jpg', 'PalmVein\\\\058_l_940_06.jpg', 'PalmVein\\\\059_l_940_01.jpg', 'PalmVein\\\\059_l_940_02.jpg', 'PalmVein\\\\059_l_940_03.jpg', 'PalmVein\\\\059_l_940_04.jpg', 'PalmVein\\\\059_l_940_05.jpg', 'PalmVein\\\\059_l_940_06.jpg', 'PalmVein\\\\060_l_940_01.jpg', 'PalmVein\\\\060_l_940_02.jpg', 'PalmVein\\\\060_l_940_03.jpg', 'PalmVein\\\\060_l_940_04.jpg', 'PalmVein\\\\060_l_940_05.jpg', 'PalmVein\\\\060_l_940_06.jpg', 'PalmVein\\\\061_l_940_01.jpg', 'PalmVein\\\\061_l_940_02.jpg', 'PalmVein\\\\061_l_940_03.jpg', 'PalmVein\\\\061_l_940_04.jpg', 'PalmVein\\\\061_l_940_05.jpg', 'PalmVein\\\\061_l_940_06.jpg', 'PalmVein\\\\062_l_940_01.jpg', 'PalmVein\\\\062_l_940_02.jpg', 'PalmVein\\\\062_l_940_03.jpg', 'PalmVein\\\\062_l_940_04.jpg', 'PalmVein\\\\062_l_940_05.jpg', 'PalmVein\\\\062_l_940_06.jpg', 'PalmVein\\\\063_l_940_01.jpg', 'PalmVein\\\\063_l_940_02.jpg', 'PalmVein\\\\063_l_940_03.jpg', 'PalmVein\\\\063_l_940_04.jpg', 'PalmVein\\\\063_l_940_05.jpg', 'PalmVein\\\\063_l_940_06.jpg', 'PalmVein\\\\064_l_940_01.jpg', 'PalmVein\\\\064_l_940_02.jpg', 'PalmVein\\\\064_l_940_03.jpg', 'PalmVein\\\\064_l_940_04.jpg', 'PalmVein\\\\064_l_940_05.jpg', 'PalmVein\\\\064_l_940_06.jpg', 'PalmVein\\\\065_l_940_01.jpg', 'PalmVein\\\\065_l_940_02.jpg', 'PalmVein\\\\065_l_940_03.jpg', 'PalmVein\\\\065_l_940_04.jpg', 'PalmVein\\\\065_l_940_05.jpg', 'PalmVein\\\\065_l_940_06.jpg', 'PalmVein\\\\066_l_940_01.jpg', 'PalmVein\\\\066_l_940_02.jpg', 'PalmVein\\\\066_l_940_03.jpg', 'PalmVein\\\\066_l_940_04.jpg', 'PalmVein\\\\066_l_940_05.jpg', 'PalmVein\\\\066_l_940_06.jpg', 'PalmVein\\\\067_l_940_01.jpg', 'PalmVein\\\\067_l_940_02.jpg', 'PalmVein\\\\067_l_940_03.jpg', 'PalmVein\\\\067_l_940_04.jpg', 'PalmVein\\\\067_l_940_05.jpg', 'PalmVein\\\\067_l_940_06.jpg', 'PalmVein\\\\068_l_940_01.jpg', 'PalmVein\\\\068_l_940_02.jpg', 'PalmVein\\\\068_l_940_03.jpg', 'PalmVein\\\\068_l_940_04.jpg', 'PalmVein\\\\068_l_940_05.jpg', 'PalmVein\\\\068_l_940_06.jpg', 'PalmVein\\\\069_l_940_01.jpg', 'PalmVein\\\\069_l_940_02.jpg', 'PalmVein\\\\069_l_940_03.jpg', 'PalmVein\\\\069_l_940_04.jpg', 'PalmVein\\\\069_l_940_05.jpg', 'PalmVein\\\\069_l_940_06.jpg', 'PalmVein\\\\070_l_940_01.jpg', 'PalmVein\\\\070_l_940_02.jpg', 'PalmVein\\\\070_l_940_03.jpg', 'PalmVein\\\\070_l_940_04.jpg', 'PalmVein\\\\070_l_940_05.jpg', 'PalmVein\\\\070_l_940_06.jpg', 'PalmVein\\\\071_l_940_01.jpg', 'PalmVein\\\\071_l_940_02.jpg', 'PalmVein\\\\071_l_940_03.jpg', 'PalmVein\\\\071_l_940_04.jpg', 'PalmVein\\\\071_l_940_05.jpg', 'PalmVein\\\\071_l_940_06.jpg', 'PalmVein\\\\072_l_940_01.jpg', 'PalmVein\\\\072_l_940_02.jpg', 'PalmVein\\\\072_l_940_03.jpg', 'PalmVein\\\\072_l_940_04.jpg', 'PalmVein\\\\072_l_940_05.jpg', 'PalmVein\\\\072_l_940_06.jpg', 'PalmVein\\\\073_l_940_01.jpg', 'PalmVein\\\\073_l_940_02.jpg', 'PalmVein\\\\073_l_940_03.jpg', 'PalmVein\\\\073_l_940_04.jpg', 'PalmVein\\\\073_l_940_05.jpg', 'PalmVein\\\\073_l_940_06.jpg', 'PalmVein\\\\074_l_940_01.jpg', 'PalmVein\\\\074_l_940_02.jpg', 'PalmVein\\\\074_l_940_03.jpg', 'PalmVein\\\\074_l_940_04.jpg', 'PalmVein\\\\074_l_940_05.jpg', 'PalmVein\\\\074_l_940_06.jpg', 'PalmVein\\\\075_l_940_01.jpg', 'PalmVein\\\\075_l_940_02.jpg', 'PalmVein\\\\075_l_940_03.jpg', 'PalmVein\\\\075_l_940_04.jpg', 'PalmVein\\\\075_l_940_05.jpg', 'PalmVein\\\\075_l_940_06.jpg', 'PalmVein\\\\076_l_940_01.jpg', 'PalmVein\\\\076_l_940_02.jpg', 'PalmVein\\\\076_l_940_03.jpg', 'PalmVein\\\\076_l_940_04.jpg', 'PalmVein\\\\076_l_940_05.jpg', 'PalmVein\\\\076_l_940_06.jpg', 'PalmVein\\\\077_l_940_01.jpg', 'PalmVein\\\\077_l_940_02.jpg', 'PalmVein\\\\077_l_940_03.jpg', 'PalmVein\\\\077_l_940_04.jpg', 'PalmVein\\\\077_l_940_05.jpg', 'PalmVein\\\\077_l_940_06.jpg', 'PalmVein\\\\078_l_940_01.jpg', 'PalmVein\\\\078_l_940_02.jpg', 'PalmVein\\\\078_l_940_03.jpg', 'PalmVein\\\\078_l_940_04.jpg', 'PalmVein\\\\078_l_940_05.jpg', 'PalmVein\\\\078_l_940_06.jpg', 'PalmVein\\\\079_l_940_01.jpg', 'PalmVein\\\\079_l_940_02.jpg', 'PalmVein\\\\079_l_940_03.jpg', 'PalmVein\\\\079_l_940_04.jpg', 'PalmVein\\\\079_l_940_05.jpg', 'PalmVein\\\\079_l_940_06.jpg', 'PalmVein\\\\080_l_940_01.jpg', 'PalmVein\\\\080_l_940_02.jpg', 'PalmVein\\\\080_l_940_03.jpg', 'PalmVein\\\\080_l_940_04.jpg', 'PalmVein\\\\080_l_940_05.jpg', 'PalmVein\\\\080_l_940_06.jpg', 'PalmVein\\\\081_l_940_01.jpg', 'PalmVein\\\\081_l_940_02.jpg', 'PalmVein\\\\081_l_940_03.jpg', 'PalmVein\\\\081_l_940_04.jpg', 'PalmVein\\\\081_l_940_05.jpg', 'PalmVein\\\\081_l_940_06.jpg', 'PalmVein\\\\082_l_940_01.jpg', 'PalmVein\\\\082_l_940_02.jpg', 'PalmVein\\\\082_l_940_03.jpg', 'PalmVein\\\\082_l_940_04.jpg', 'PalmVein\\\\082_l_940_05.jpg', 'PalmVein\\\\082_l_940_06.jpg', 'PalmVein\\\\083_l_940_01.jpg', 'PalmVein\\\\083_l_940_02.jpg', 'PalmVein\\\\083_l_940_03.jpg', 'PalmVein\\\\083_l_940_04.jpg', 'PalmVein\\\\083_l_940_05.jpg', 'PalmVein\\\\083_l_940_06.jpg', 'PalmVein\\\\084_l_940_01.jpg', 'PalmVein\\\\084_l_940_02.jpg', 'PalmVein\\\\084_l_940_03.jpg', 'PalmVein\\\\084_l_940_04.jpg', 'PalmVein\\\\084_l_940_05.jpg', 'PalmVein\\\\084_l_940_06.jpg', 'PalmVein\\\\085_l_940_01.jpg', 'PalmVein\\\\085_l_940_02.jpg', 'PalmVein\\\\085_l_940_03.jpg', 'PalmVein\\\\085_l_940_04.jpg', 'PalmVein\\\\085_l_940_05.jpg', 'PalmVein\\\\085_l_940_06.jpg', 'PalmVein\\\\086_l_940_01.jpg', 'PalmVein\\\\086_l_940_02.jpg', 'PalmVein\\\\086_l_940_03.jpg', 'PalmVein\\\\086_l_940_04.jpg', 'PalmVein\\\\086_l_940_05.jpg', 'PalmVein\\\\086_l_940_06.jpg', 'PalmVein\\\\087_l_940_01.jpg', 'PalmVein\\\\087_l_940_02.jpg', 'PalmVein\\\\087_l_940_03.jpg', 'PalmVein\\\\087_l_940_04.jpg', 'PalmVein\\\\087_l_940_05.jpg', 'PalmVein\\\\087_l_940_06.jpg', 'PalmVein\\\\088_l_940_01.jpg', 'PalmVein\\\\088_l_940_02.jpg', 'PalmVein\\\\088_l_940_03.jpg', 'PalmVein\\\\088_l_940_04.jpg', 'PalmVein\\\\088_l_940_05.jpg', 'PalmVein\\\\088_l_940_06.jpg', 'PalmVein\\\\089_l_940_01.jpg', 'PalmVein\\\\089_l_940_02.jpg', 'PalmVein\\\\089_l_940_03.jpg', 'PalmVein\\\\089_l_940_04.jpg', 'PalmVein\\\\089_l_940_05.jpg', 'PalmVein\\\\089_l_940_06.jpg', 'PalmVein\\\\090_l_940_01.jpg', 'PalmVein\\\\090_l_940_02.jpg', 'PalmVein\\\\090_l_940_03.jpg', 'PalmVein\\\\090_l_940_04.jpg', 'PalmVein\\\\090_l_940_05.jpg', 'PalmVein\\\\090_l_940_06.jpg', 'PalmVein\\\\091_l_940_01.jpg', 'PalmVein\\\\091_l_940_02.jpg', 'PalmVein\\\\091_l_940_03.jpg', 'PalmVein\\\\091_l_940_04.jpg', 'PalmVein\\\\091_l_940_05.jpg', 'PalmVein\\\\091_l_940_06.jpg', 'PalmVein\\\\092_l_940_01.jpg', 'PalmVein\\\\092_l_940_02.jpg', 'PalmVein\\\\092_l_940_03.jpg', 'PalmVein\\\\092_l_940_04.jpg', 'PalmVein\\\\092_l_940_05.jpg', 'PalmVein\\\\092_l_940_06.jpg', 'PalmVein\\\\093_l_940_01.jpg', 'PalmVein\\\\093_l_940_02.jpg', 'PalmVein\\\\093_l_940_03.jpg', 'PalmVein\\\\093_l_940_04.jpg', 'PalmVein\\\\093_l_940_05.jpg', 'PalmVein\\\\093_l_940_06.jpg', 'PalmVein\\\\094_l_940_01.jpg', 'PalmVein\\\\094_l_940_02.jpg', 'PalmVein\\\\094_l_940_03.jpg', 'PalmVein\\\\094_l_940_04.jpg', 'PalmVein\\\\094_l_940_05.jpg', 'PalmVein\\\\094_l_940_06.jpg', 'PalmVein\\\\095_l_940_01.jpg', 'PalmVein\\\\095_l_940_02.jpg', 'PalmVein\\\\095_l_940_03.jpg', 'PalmVein\\\\095_l_940_04.jpg', 'PalmVein\\\\095_l_940_05.jpg', 'PalmVein\\\\095_l_940_06.jpg', 'PalmVein\\\\096_l_940_01.jpg', 'PalmVein\\\\096_l_940_02.jpg', 'PalmVein\\\\096_l_940_03.jpg', 'PalmVein\\\\096_l_940_04.jpg', 'PalmVein\\\\096_l_940_05.jpg', 'PalmVein\\\\096_l_940_06.jpg', 'PalmVein\\\\097_l_940_01.jpg', 'PalmVein\\\\097_l_940_02.jpg', 'PalmVein\\\\097_l_940_03.jpg', 'PalmVein\\\\097_l_940_04.jpg', 'PalmVein\\\\097_l_940_05.jpg', 'PalmVein\\\\097_l_940_06.jpg', 'PalmVein\\\\098_l_940_01.jpg', 'PalmVein\\\\098_l_940_02.jpg', 'PalmVein\\\\098_l_940_03.jpg', 'PalmVein\\\\098_l_940_04.jpg', 'PalmVein\\\\098_l_940_05.jpg', 'PalmVein\\\\098_l_940_06.jpg', 'PalmVein\\\\099_l_940_01.jpg', 'PalmVein\\\\099_l_940_02.jpg', 'PalmVein\\\\099_l_940_03.jpg', 'PalmVein\\\\099_l_940_04.jpg', 'PalmVein\\\\099_l_940_05.jpg', 'PalmVein\\\\099_l_940_06.jpg', 'PalmVein\\\\100_l_940_01.jpg', 'PalmVein\\\\100_l_940_02.jpg', 'PalmVein\\\\100_l_940_03.jpg', 'PalmVein\\\\100_l_940_04.jpg', 'PalmVein\\\\100_l_940_05.jpg', 'PalmVein\\\\100_l_940_06.jpg']\n"
     ]
    }
   ],
   "source": [
    "img_dir = \"PalmVein\"\n",
    "\n",
    "data_path = os.path.join(img_dir,'*.jpg')\n",
    "files = glob.glob(data_path)\n",
    "print(files)"
   ]
  },
  {
   "cell_type": "code",
   "execution_count": 7,
   "metadata": {},
   "outputs": [
    {
     "ename": "error",
     "evalue": "OpenCV(4.0.0) C:\\projects\\opencv-python\\opencv\\modules\\photo\\src\\denoising.cpp:178: error: (-5:Bad argument) Type of input image should be CV_8UC3 or CV_8UC4! in function 'cv::fastNlMeansDenoisingColored'\n",
     "output_type": "error",
     "traceback": [
      "\u001b[1;31m---------------------------------------------------------------------------\u001b[0m",
      "\u001b[1;31merror\u001b[0m                                     Traceback (most recent call last)",
      "\u001b[1;32m<ipython-input-7-0a8aa4f11e1e>\u001b[0m in \u001b[0;36m<module>\u001b[1;34m()\u001b[0m\n\u001b[0;32m      2\u001b[0m     \u001b[0mimg\u001b[0m \u001b[1;33m=\u001b[0m \u001b[0mcv2\u001b[0m\u001b[1;33m.\u001b[0m\u001b[0mimread\u001b[0m\u001b[1;33m(\u001b[0m\u001b[0mf1\u001b[0m\u001b[1;33m)\u001b[0m\u001b[1;33m\u001b[0m\u001b[0m\n\u001b[0;32m      3\u001b[0m     \u001b[0mimg\u001b[0m \u001b[1;33m=\u001b[0m \u001b[0mcv2\u001b[0m\u001b[1;33m.\u001b[0m\u001b[0mcvtColor\u001b[0m\u001b[1;33m(\u001b[0m\u001b[0mimg\u001b[0m\u001b[1;33m,\u001b[0m \u001b[0mcv2\u001b[0m\u001b[1;33m.\u001b[0m\u001b[0mCOLOR_BGR2GRAY\u001b[0m\u001b[1;33m)\u001b[0m\u001b[1;33m\u001b[0m\u001b[0m\n\u001b[1;32m----> 4\u001b[1;33m     \u001b[0mnoiseRem\u001b[0m \u001b[1;33m=\u001b[0m \u001b[0mcv2\u001b[0m\u001b[1;33m.\u001b[0m\u001b[0mfastNlMeansDenoisingColored\u001b[0m\u001b[1;33m(\u001b[0m\u001b[0mimg\u001b[0m\u001b[1;33m,\u001b[0m\u001b[1;36m10\u001b[0m\u001b[1;33m,\u001b[0m\u001b[1;36m10\u001b[0m\u001b[1;33m,\u001b[0m\u001b[1;36m7\u001b[0m\u001b[1;33m,\u001b[0m\u001b[1;36m21\u001b[0m\u001b[1;33m)\u001b[0m\u001b[1;33m\u001b[0m\u001b[0m\n\u001b[0m\u001b[0;32m      5\u001b[0m \u001b[1;31m#     head, tail = os.path.split(f1)\u001b[0m\u001b[1;33m\u001b[0m\u001b[1;33m\u001b[0m\u001b[0m\n\u001b[0;32m      6\u001b[0m \u001b[1;31m#     name = tail.split('_')\u001b[0m\u001b[1;33m\u001b[0m\u001b[1;33m\u001b[0m\u001b[0m\n",
      "\u001b[1;31merror\u001b[0m: OpenCV(4.0.0) C:\\projects\\opencv-python\\opencv\\modules\\photo\\src\\denoising.cpp:178: error: (-5:Bad argument) Type of input image should be CV_8UC3 or CV_8UC4! in function 'cv::fastNlMeansDenoisingColored'\n"
     ]
    }
   ],
   "source": [
    "for f1 in files:\n",
    "    img = cv2.imread(f1)\n",
    "    img = cv2.cvtColor(img, cv2.COLOR_BGR2GRAY)\n",
    "    noiseRem = cv2.fastNlMeansDenoisingColored(img,10,10,7,21)\n",
    "#     head, tail = os.path.split(f1)\n",
    "#     name = tail.split('_')\n",
    "#     dir_result = \"Wavelet\"\n",
    "#     coeffs = pywt.dwt2(img, 'haar') \n",
    "#     LL, (LH, HL, HH) = coeffs\n",
    "#     height, width = LL.shape\n",
    "#     newimg = cv2.resize(img,(int(height),int(width)))\n",
    "#     cv2.imwrite(os.path.join(dir_result, tail), newimg)\n",
    "#     # pywt.idwt2(coeffs, 'haar')\n",
    "#     kode = [\"LL\", \"LH\", \"HL\", \"HH\"]\n",
    "#     for i, a in enumerate([LL, LH, HL, HH]):\n",
    "#         name_file = name[0] + \"_\" + str(name[3]) + \"_\" + str(kode[i]) + \".jpg\"\n",
    "#         cv2.imwrite(os.path.join(dir_result, name_file), a)\n"
   ]
  },
  {
   "cell_type": "code",
   "execution_count": 30,
   "metadata": {
    "scrolled": true
   },
   "outputs": [
    {
     "name": "stdout",
     "output_type": "stream",
     "text": [
      "<class 'numpy.ndarray'>\n"
     ]
    },
    {
     "name": "stderr",
     "output_type": "stream",
     "text": [
      "C:\\ProgramData\\Anaconda3\\lib\\site-packages\\scipy\\signal\\signaltools.py:950: RuntimeWarning: divide by zero encountered in true_divide\n",
      "  res *= (1 - noise / lVar)\n",
      "C:\\ProgramData\\Anaconda3\\lib\\site-packages\\scipy\\signal\\signaltools.py:950: RuntimeWarning: invalid value encountered in multiply\n",
      "  res *= (1 - noise / lVar)\n"
     ]
    }
   ],
   "source": [
    "from scipy.signal import wiener\n",
    "img = img.astype(np.float32)\n",
    "wienerImg = wiener(img, mysize=([12,12]))\n",
    "print(type(img))"
   ]
  },
  {
   "cell_type": "code",
   "execution_count": null,
   "metadata": {
    "collapsed": true
   },
   "outputs": [],
   "source": []
  }
 ],
 "metadata": {
  "kernelspec": {
   "display_name": "Python 3",
   "language": "python",
   "name": "python3"
  },
  "language_info": {
   "codemirror_mode": {
    "name": "ipython",
    "version": 3
   },
   "file_extension": ".py",
   "mimetype": "text/x-python",
   "name": "python",
   "nbconvert_exporter": "python",
   "pygments_lexer": "ipython3",
   "version": "3.6.6"
  }
 },
 "nbformat": 4,
 "nbformat_minor": 2
}
