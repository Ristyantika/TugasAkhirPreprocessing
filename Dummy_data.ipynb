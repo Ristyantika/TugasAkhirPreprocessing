{
 "cells": [
  {
   "cell_type": "code",
   "execution_count": 15,
   "metadata": {
    "collapsed": true
   },
   "outputs": [],
   "source": [
    "import glob\n",
    "import os\n",
    "import numpy as np\n",
    "import cv2\n",
    "import imutils\n",
    "import math\n",
    "from scipy import misc"
   ]
  },
  {
   "cell_type": "code",
   "execution_count": 16,
   "metadata": {
    "collapsed": true
   },
   "outputs": [],
   "source": [
    "img = [[0,0,0,0,0],\n",
    "      [0,0,1,1,0],\n",
    "      [0,1,1,1,0],\n",
    "      [0,1,1,1,1],\n",
    "      [0,0,1,1,1],\n",
    "      [0,0,0,0,0]]\n",
    "img = np.array(img)"
   ]
  },
  {
   "cell_type": "code",
   "execution_count": 17,
   "metadata": {},
   "outputs": [
    {
     "name": "stdout",
     "output_type": "stream",
     "text": [
      "[[ 0.  0.  0.  0.  0.]\n",
      " [ 0.  0.  1.  0.  0.]\n",
      " [ 0.  0.  0.  0.  0.]\n",
      " [ 0.  0.  0.  0.  0.]\n",
      " [ 0.  0.  0.  0.  0.]\n",
      " [ 0.  0.  0.  0.  0.]]\n",
      "[1, 2]\n"
     ]
    }
   ],
   "source": [
    "oneValue = np.argwhere(img==1)[0]\n",
    "r = oneValue[0]\n",
    "c = oneValue[1]\n",
    "# r = 2\n",
    "# c = 1\n",
    "ctrImg = np.zeros(img.shape)\n",
    "ctrImg[r,c] = 1\n",
    "coor = [r,c]\n",
    "startCoor = [r,c]\n",
    "print(ctrImg)\n",
    "print(coor)"
   ]
  },
  {
   "cell_type": "code",
   "execution_count": 18,
   "metadata": {},
   "outputs": [
    {
     "name": "stdout",
     "output_type": "stream",
     "text": [
      "[6, 2.5]\n"
     ]
    }
   ],
   "source": [
    "maksCoorR, maksCoorC = img.shape\n",
    "coorHalfWrist = [maksCoorR, maksCoorC/2]\n",
    "posisi =[]\n",
    "print(coorHalfWrist)"
   ]
  },
  {
   "cell_type": "code",
   "execution_count": 19,
   "metadata": {
    "collapsed": true
   },
   "outputs": [],
   "source": [
    "newCoor = [0,0]\n",
    "coorDis = []\n",
    "direction = []\n",
    "dire = 7\n",
    "indikator = 1\n",
    "# print(coor)\n",
    "count = 0\n",
    "counts = 0\n",
    "while indikator == 1:\n",
    "    counts += 1\n",
    "#     print(count)\n",
    "    if dire % 2 == 0:\n",
    "        startDir = (dire+7) % 8\n",
    "    else:\n",
    "        startDir = (dire+6) % 8\n",
    "    currentDir = startDir\n",
    "    for i in range(8):\n",
    "        if currentDir == 8:\n",
    "            currentDir = 0\n",
    "        if currentDir == 0:\n",
    "            posisi = [0, 1]\n",
    "        elif currentDir == 1:\n",
    "            posisi = [-1, 1]\n",
    "        elif currentDir == 2:\n",
    "            posisi = [-1, 0]\n",
    "        elif currentDir == 3:\n",
    "            posisi = [-1, -1]\n",
    "        elif currentDir == 4:\n",
    "            posisi = [0, -1]\n",
    "        elif currentDir == 5:\n",
    "            posisi = [1, -1]\n",
    "        elif currentDir == 6:\n",
    "            posisi = [1, 0]\n",
    "        elif currentDir == 7:\n",
    "            posisi = [1, 1]\n",
    "        dire = currentDir\n",
    "#         print(\"posisi\")\n",
    "#         print(posisi)\n",
    "#         print(\"coor\")\n",
    "#         print(coor)\n",
    "        newCoor[0] = coor[0] + posisi[0]\n",
    "        newCoor[1] = coor[1] + posisi[1]\n",
    "#         print(\"newCoor\")\n",
    "#         print(newCoor)\n",
    "        if newCoor[0] >= 0 and newCoor[1] >= 0 and newCoor[0] < maksCoorR-1 and newCoor[1] < maksCoorC-1:\n",
    "            if img[newCoor[0], newCoor[1]] == 1:\n",
    "                ctrImg[newCoor[0], newCoor[1]] = 1\n",
    "                coor[0] = newCoor[0]\n",
    "                coor[1] = newCoor[1]\n",
    "#                 print(newCoor)\n",
    "                a = math.pow((newCoor[0] - coorHalfWrist[0] + 1),2)\n",
    "                b = math.pow((newCoor[1] - coorHalfWrist[1] + 1),2)\n",
    "                c = a + b\n",
    "#                 print(c)\n",
    "                distances = math.sqrt(c)\n",
    "                coorDis.append([])\n",
    "                direction.append([])\n",
    "                coorDis[count].append(newCoor[0])\n",
    "                coorDis[count].append(newCoor[1])\n",
    "                coorDis[count].append(distances)\n",
    "                direction[count].append(dire)\n",
    "                count += 1\n",
    "                break\n",
    "            else:\n",
    "                currentDir += 1\n",
    "        else:\n",
    "            currentDir += 1\n",
    "    if startCoor == coor:\n",
    "        indikator = 0"
   ]
  },
  {
   "cell_type": "code",
   "execution_count": 20,
   "metadata": {},
   "outputs": [
    {
     "data": {
      "text/plain": [
       "8"
      ]
     },
     "execution_count": 20,
     "metadata": {},
     "output_type": "execute_result"
    }
   ],
   "source": [
    "count"
   ]
  },
  {
   "cell_type": "code",
   "execution_count": 21,
   "metadata": {},
   "outputs": [
    {
     "data": {
      "text/plain": [
       "[[2, 1, 3.0413812651491097],\n",
       " [3, 1, 2.0615528128088303],\n",
       " [4, 2, 1.118033988749895],\n",
       " [4, 3, 1.8027756377319946],\n",
       " [3, 3, 2.5],\n",
       " [2, 3, 3.3541019662496847],\n",
       " [1, 3, 4.272001872658765],\n",
       " [1, 2, 4.031128874149275]]"
      ]
     },
     "execution_count": 21,
     "metadata": {},
     "output_type": "execute_result"
    }
   ],
   "source": [
    "coorDis"
   ]
  },
  {
   "cell_type": "code",
   "execution_count": 22,
   "metadata": {},
   "outputs": [
    {
     "data": {
      "text/plain": [
       "array([[ 0.,  0.,  0.,  0.,  0.],\n",
       "       [ 0.,  0.,  1.,  1.,  0.],\n",
       "       [ 0.,  1.,  0.,  1.,  0.],\n",
       "       [ 0.,  1.,  0.,  1.,  0.],\n",
       "       [ 0.,  0.,  1.,  1.,  0.],\n",
       "       [ 0.,  0.,  0.,  0.,  0.]])"
      ]
     },
     "execution_count": 22,
     "metadata": {},
     "output_type": "execute_result"
    }
   ],
   "source": [
    "ctrImg"
   ]
  },
  {
   "cell_type": "code",
   "execution_count": 23,
   "metadata": {},
   "outputs": [
    {
     "name": "stdout",
     "output_type": "stream",
     "text": [
      "[[2 2]]\n"
     ]
    }
   ],
   "source": [
    "# Distance Distribution Diagram\n",
    "sumbuX = []\n",
    "sumbuX = np.arange(len(coorDis))\n",
    "sumbuX = np.array(sumbuX)\n",
    "minDistance = np.amin(coorDis, axis =0)[2]\n",
    "indexDistance = np.argwhere(coorDis == minDistance)\n",
    "r = indexDistance[0][0]\n",
    "c = 0\n",
    "print(indexDistance)"
   ]
  },
  {
   "cell_type": "code",
   "execution_count": 24,
   "metadata": {},
   "outputs": [
    {
     "name": "stdout",
     "output_type": "stream",
     "text": [
      "[[2, 1, 3.0413812651491097], [3, 1, 2.0615528128088303], [4, 2, 1.118033988749895], [4, 3, 1.8027756377319946], [3, 3, 2.5], [2, 3, 3.3541019662496847], [1, 3, 4.272001872658765], [1, 2, 4.031128874149275]]\n",
      "<class 'list'>\n"
     ]
    }
   ],
   "source": [
    "print(coorDis)\n",
    "print(type(coorDis))"
   ]
  },
  {
   "cell_type": "code",
   "execution_count": 25,
   "metadata": {},
   "outputs": [
    {
     "name": "stdout",
     "output_type": "stream",
     "text": [
      "[[ 4.          2.          1.11803399]\n",
      " [ 4.          3.          1.80277564]\n",
      " [ 3.          3.          2.5       ]\n",
      " [ 2.          3.          3.35410197]\n",
      " [ 1.          3.          4.27200187]\n",
      " [ 1.          2.          4.03112887]\n",
      " [ 2.          1.          3.04138127]\n",
      " [ 3.          1.          2.06155281]]\n",
      "<class 'numpy.ndarray'>\n"
     ]
    }
   ],
   "source": [
    "newCoorDis = []\n",
    "for i in range(len(coorDis) - r):\n",
    "    newCoorDis.append(coorDis[i+r])\n",
    "for i in range(r):\n",
    "    newCoorDis.append(coorDis[i])\n",
    "newCoorDis = np.array(newCoorDis)\n",
    "print(newCoorDis)\n",
    "print(type(newCoorDis))"
   ]
  },
  {
   "cell_type": "code",
   "execution_count": 26,
   "metadata": {},
   "outputs": [
    {
     "name": "stdout",
     "output_type": "stream",
     "text": [
      "[[ 4.          2.          0.        ]\n",
      " [ 4.          3.          0.        ]\n",
      " [ 3.          3.          0.        ]\n",
      " [ 2.          3.          0.        ]\n",
      " [ 1.          3.          4.27200187]\n",
      " [ 1.          2.          4.03112887]\n",
      " [ 2.          1.          0.        ]\n",
      " [ 3.          1.          0.        ]]\n",
      "[ 0.          0.          0.          0.          4.27200187  4.03112887\n",
      "  0.          0.        ]\n"
     ]
    }
   ],
   "source": [
    "zeroDis = float(1)\n",
    "r = []\n",
    "c = []\n",
    "for i in range(len(newCoorDis)):\n",
    "    if newCoorDis[i][0] > zeroDis:\n",
    "        newCoorDis[i][2] = 0\n",
    "print(newCoorDis)\n",
    "distancess = []\n",
    "for i in range(len(newCoorDis)):\n",
    "    distancess.append(newCoorDis[i][2])\n",
    "distancess = np.array(distancess)\n",
    "print(distancess)"
   ]
  },
  {
   "cell_type": "code",
   "execution_count": 62,
   "metadata": {
    "collapsed": true
   },
   "outputs": [],
   "source": [
    "def getPeak(Data, i, s):\n",
    "    if (i-s) < 1:\n",
    "        top = 0\n",
    "    else:\n",
    "        top = i - s - 1\n",
    "    y = Data[1]\n",
    "#     print(len(y))\n",
    "    if (i+s) > len(y):\n",
    "        bottom = len(y) - 1\n",
    "    else:\n",
    "        bottom = i + s - 1\n",
    "    p = []\n",
    "#     print(top)\n",
    "#     print(bottom)\n",
    "    if y[i] == max(y[top:bottom]) or y[i] == min(y[top:bottom]):\n",
    "        p = [Data[0][i], Data[1][i]]\n",
    "    else:\n",
    "        p.append(float('nan'))\n",
    "        p.append(float('nan'))\n",
    "    return p"
   ]
  },
  {
   "cell_type": "code",
   "execution_count": 68,
   "metadata": {
    "collapsed": true
   },
   "outputs": [],
   "source": [
    "def fpeak(sumbuX, distancess, sensitivityFunc):\n",
    "    rx = len(sumbuX)\n",
    "    ry = len(newCoorDis)\n",
    "    sensitivityFunc = []\n",
    "    sensitivityFunc.append(3)\n",
    "    if sensitivityFunc[0] == 0:\n",
    "        sensitivityFunc[0] = 1\n",
    "#     print(rx)\n",
    "    Data = np.vstack((sumbuX, distancess))\n",
    "    output = []\n",
    "    for i in range(rx):\n",
    "        isP = getPeak(Data, i, sensitivityFunc[0])\n",
    "#         print(isP)\n",
    "        if np.isnan(isP).sum() == 0:\n",
    "            output.append(isP)\n",
    "    return output"
   ]
  },
  {
   "cell_type": "code",
   "execution_count": 69,
   "metadata": {},
   "outputs": [
    {
     "name": "stdout",
     "output_type": "stream",
     "text": [
      "0\n",
      "2\n",
      "0\n",
      "3\n",
      "0\n",
      "4\n",
      "0\n",
      "5\n",
      "0\n",
      "6\n",
      "1\n",
      "7\n",
      "2\n",
      "7\n",
      "3\n",
      "7\n",
      "[[0.0, 0.0], [1.0, 0.0], [2.0, 0.0], [3.0, 0.0], [4.0, 4.2720018726587652], [6.0, 0.0], [7.0, 0.0]]\n",
      "[[0.0, 0.0, 1], [1.0, 0.0, 1], [2.0, 0.0, 1], [3.0, 0.0, 0], [4.0, 4.2720018726587652, 0], [6.0, 0.0, 1], [7.0, 0.0, 0]]\n"
     ]
    }
   ],
   "source": [
    "output = fpeak(sumbuX, distancess, sensitivityFunc)\n",
    "print(output)\n",
    "for i in range(len(output)):\n",
    "    if i == len(output) - 1:\n",
    "        output[i].append(0)\n",
    "        break\n",
    "    if output[i][1] == output[i+1][1]:\n",
    "        output[i].append(1)\n",
    "    else:\n",
    "        output[i].append(0)\n",
    "print(output)"
   ]
  },
  {
   "cell_type": "code",
   "execution_count": 32,
   "metadata": {},
   "outputs": [
    {
     "name": "stdout",
     "output_type": "stream",
     "text": [
      "[[3.0, 0.0, 0], [4.0, 4.2720018726587652, 0], [7.0, 0.0, 0]]\n"
     ]
    }
   ],
   "source": [
    "outpuT = []\n",
    "for i in output:\n",
    "    if i[2] == float(0):\n",
    "        outpuT.append(i)\n",
    "print(outpuT)"
   ]
  },
  {
   "cell_type": "code",
   "execution_count": 33,
   "metadata": {},
   "outputs": [
    {
     "name": "stdout",
     "output_type": "stream",
     "text": [
      "[[3.0, 0.0, 0], [4.0, 4.2720018726587652, 0], [7.0, 0.0, 0]]\n",
      "3.0\n",
      "[2.0, 3.0]\n",
      "7.0\n",
      "[3.0, 1.0]\n"
     ]
    }
   ],
   "source": [
    "print(outpuT)\n",
    "pixelP1 = outpuT[0][0]\n",
    "pixelP2 = outpuT[2][0]\n",
    "print(pixelP1)\n",
    "coorP1 = []\n",
    "coorP2 = []\n",
    "coorP1 = [newCoorDis[int(pixelP1)][0], newCoorDis[int(pixelP1)][1]]\n",
    "coorP2 = [newCoorDis[int(pixelP2)][0], newCoorDis[int(pixelP2)][1]]\n",
    "print(coorP1)\n",
    "print(pixelP2)\n",
    "print(coorP2)"
   ]
  },
  {
   "cell_type": "code",
   "execution_count": 34,
   "metadata": {},
   "outputs": [
    {
     "name": "stdout",
     "output_type": "stream",
     "text": [
      "-63.43494882292201\n"
     ]
    }
   ],
   "source": [
    "# kemiringan p1 dam p2\n",
    "temp = (coorP2[1] - coorP1[1]) / (coorP2[0] - coorP1[0])\n",
    "rad = math.atan(temp) / math.pi * 180\n",
    "print(rad)"
   ]
  },
  {
   "cell_type": "code",
   "execution_count": 35,
   "metadata": {},
   "outputs": [
    {
     "name": "stdout",
     "output_type": "stream",
     "text": [
      "[[  0   0  58   0   0]\n",
      " [  7 180 255  68 162]\n",
      " [  0 195 255 249 255]\n",
      " [ 22 232 255 255 212]\n",
      " [  0  68  95 144  16]\n",
      " [  0   0   0   0   0]]\n"
     ]
    }
   ],
   "source": [
    "newImg = misc.imrotate(img,40,interp='bilinear')\n",
    "print(newImg)"
   ]
  },
  {
   "cell_type": "code",
   "execution_count": 36,
   "metadata": {},
   "outputs": [
    {
     "name": "stdout",
     "output_type": "stream",
     "text": [
      "[[0 0 0 0 0]\n",
      " [0 0 0 0 0]\n",
      " [0 0 0 1 0]\n",
      " [0 1 0 0 0]\n",
      " [0 0 0 0 0]\n",
      " [0 0 0 0 0]]\n"
     ]
    }
   ],
   "source": [
    "temp = np.zeros_like(img)\n",
    "temp[int(coorP1[0])][int(coorP1[1])] = 1\n",
    "temp[int(coorP2[0])][int(coorP2[1])] = 1\n",
    "print(temp)"
   ]
  },
  {
   "cell_type": "code",
   "execution_count": 37,
   "metadata": {},
   "outputs": [
    {
     "name": "stdout",
     "output_type": "stream",
     "text": [
      "[[ 0  0  0  0  0]\n",
      " [ 0  0 86 68  0]\n",
      " [ 0  0 72 55  0]\n",
      " [ 0 55 72  0  0]\n",
      " [ 0 68 86  0  0]\n",
      " [ 0  0  0  0  0]]\n"
     ]
    }
   ],
   "source": [
    "tempRotate = misc.imrotate(temp,40,interp='bilinear')\n",
    "print(tempRotate)"
   ]
  },
  {
   "cell_type": "code",
   "execution_count": 38,
   "metadata": {},
   "outputs": [
    {
     "name": "stdout",
     "output_type": "stream",
     "text": [
      "[[1 2]\n",
      " [1 3]\n",
      " [2 2]\n",
      " [2 3]\n",
      " [3 1]\n",
      " [3 2]\n",
      " [4 1]\n",
      " [4 2]]\n"
     ]
    }
   ],
   "source": [
    "tempIndex = np.argwhere(tempRotate>0)\n",
    "print(tempIndex)"
   ]
  },
  {
   "cell_type": "code",
   "execution_count": 70,
   "metadata": {},
   "outputs": [
    {
     "name": "stdout",
     "output_type": "stream",
     "text": [
      "[1, 2]\n",
      "[4, 2]\n"
     ]
    }
   ],
   "source": [
    "newCoorP1 = [tempIndex[0][0], tempIndex[0][1]]\n",
    "newCoorP2 = [tempIndex[len(tempIndex)-1][0], tempIndex[len(tempIndex)-1][1]]\n",
    "print(newCoorP1)\n",
    "print(newCoorP2)"
   ]
  },
  {
   "cell_type": "code",
   "execution_count": 72,
   "metadata": {},
   "outputs": [
    {
     "name": "stdout",
     "output_type": "stream",
     "text": [
      "3.0\n",
      "-2\n",
      "-1\n",
      "[[1 1 0]\n",
      " [1 1 0]\n",
      " [1 1 1]]\n"
     ]
    }
   ],
   "source": [
    "a = math.pow((newCoorP1[0]-newCoorP2[0]),2)\n",
    "b = math.pow((newCoorP1[1]-newCoorP2[1]),2)\n",
    "distance = math.sqrt(a+b)\n",
    "print(distance)\n",
    "# ROI output\n",
    "print(int(newCoorP1[0]-distance))\n",
    "print(int(newCoorP1[1]-distance))\n",
    "fiturI = img[int(newCoorP1[0]):int(newCoorP1[0]+distance), int(newCoorP1[1]):int(newCoorP1[1]+distance)]\n",
    "print(fiturI)"
   ]
  }
 ],
 "metadata": {
  "kernelspec": {
   "display_name": "Python 3",
   "language": "python",
   "name": "python3"
  },
  "language_info": {
   "codemirror_mode": {
    "name": "ipython",
    "version": 3
   },
   "file_extension": ".py",
   "mimetype": "text/x-python",
   "name": "python",
   "nbconvert_exporter": "python",
   "pygments_lexer": "ipython3",
   "version": "3.6.6"
  }
 },
 "nbformat": 4,
 "nbformat_minor": 2
}
