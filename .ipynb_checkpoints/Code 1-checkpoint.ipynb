{
 "cells": [
  {
   "cell_type": "code",
   "execution_count": 1,
   "metadata": {
    "collapsed": true
   },
   "outputs": [],
   "source": [
    "import glob\n",
    "import os\n",
    "import numpy as np\n",
    "import cv2\n",
    "import imutils\n",
    "import math\n",
    "from scipy import misc\n",
    "import copy"
   ]
  },
  {
   "cell_type": "code",
   "execution_count": 2,
   "metadata": {
    "collapsed": true
   },
   "outputs": [],
   "source": [
    "original_img = cv2.imread(f1)\n",
    "    head, tail = os.path.split(f1)\n",
    "    name = tail.split('_')\n",
    "    class_data.append(name[0])\n",
    "    folderName = dir_result + '\\\\\\\\' + tail\n",
    "    print(folderName)\n",
    "    \n",
    "    # praProcess\n",
    "    img, img_rotate = praproses1(original_img)\n",
    "    \n",
    "    column = np.argwhere(np.any(img==255, axis = 0))[0]\n",
    "    c = column[0]\n",
    "    \n",
    "    row_columnX = img[:,c:c+1]\n",
    "    row = np.argwhere(np.any(row_columnX==255, axis = 1))[0]\n",
    "    r = row[0]\n",
    "    \n",
    "    ctrImg = np.zeros(img.shape)\n",
    "    height, width = img.shape\n",
    "    ctrImg[r,c] = 255\n",
    "    coor = [r,c]\n",
    "    startCoor = [r,c]\n",
    "    \n",
    "    maksCoorR, maksCoorC = img.shape\n",
    "    coorHalfWrist = [int(maksCoorR), int(maksCoorC/2)]"
   ]
  },
  {
   "cell_type": "code",
   "execution_count": null,
   "metadata": {
    "collapsed": true
   },
   "outputs": [],
   "source": []
  }
 ],
 "metadata": {
  "kernelspec": {
   "display_name": "Python 3",
   "language": "python",
   "name": "python3"
  },
  "language_info": {
   "codemirror_mode": {
    "name": "ipython",
    "version": 3
   },
   "file_extension": ".py",
   "mimetype": "text/x-python",
   "name": "python",
   "nbconvert_exporter": "python",
   "pygments_lexer": "ipython3",
   "version": "3.6.6"
  }
 },
 "nbformat": 4,
 "nbformat_minor": 2
}
