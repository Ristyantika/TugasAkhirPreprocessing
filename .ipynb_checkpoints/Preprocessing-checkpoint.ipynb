{
 "cells": [
  {
   "cell_type": "code",
   "execution_count": 1,
   "metadata": {
    "collapsed": true
   },
   "outputs": [],
   "source": [
    "import glob\n",
    "import os\n",
    "import numpy as np\n",
    "import cv2\n",
    "import imutils\n",
    "import math\n",
    "from scipy import misc"
   ]
  },
  {
   "cell_type": "code",
   "execution_count": 2,
   "metadata": {},
   "outputs": [
    {
     "name": "stdout",
     "output_type": "stream",
     "text": [
      "['data\\\\001_l_940_01.jpg']\n"
     ]
    }
   ],
   "source": [
    "img_dir = \"data\"\n",
    "\n",
    "data_path = os.path.join(img_dir,'*.jpg')\n",
    "files = glob.glob(data_path)\n",
    "print(files)"
   ]
  },
  {
   "cell_type": "code",
   "execution_count": 3,
   "metadata": {
    "collapsed": true
   },
   "outputs": [],
   "source": [
    "class_data = []\n",
    "dir_result = \"result\"\n",
    "for f1 in files:\n",
    "    original_img = cv2.imread(f1)\n",
    "    head, tail = os.path.split(f1)\n",
    "    name = tail.split('_')\n",
    "    class_data.append(name[0])\n",
    "    folderName = dir_result + '\\\\\\\\' + tail\n",
    "    \n",
    "    #rotate image\n",
    "    img_rotate = imutils.rotate_bound(original_img, 90)\n",
    "    \n",
    "    #graylevel image\n",
    "    img_gray = cv2.cvtColor(img_rotate, cv2.COLOR_BGR2GRAY)\n",
    "    \n",
    "    #otsu's thresholding\n",
    "    blur = cv2.GaussianBlur(img_gray,(5,5),0)\n",
    "    ret3,img_thresh = cv2.threshold(blur,0,255,cv2.THRESH_BINARY+cv2.THRESH_OTSU)\n",
    "    \n",
    "    #morphological opening\n",
    "    sz = 25\n",
    "    kernel = cv2.getStructuringElement(cv2.MORPH_ELLIPSE, (2*sz-1, 2*sz-1))\n",
    "    opening = cv2.morphologyEx(img_thresh, cv2.MORPH_OPEN, kernel)\n",
    "    \n",
    "    cv2.imwrite(os.path.join(dir_result, tail), opening)\n",
    "    "
   ]
  },
  {
   "cell_type": "code",
   "execution_count": 4,
   "metadata": {},
   "outputs": [
    {
     "name": "stdout",
     "output_type": "stream",
     "text": [
      "(768, 1)\n",
      "3\n",
      "404\n",
      "(768, 576)\n",
      "255.0\n",
      "[404, 3]\n"
     ]
    },
    {
     "data": {
      "text/plain": [
       "True"
      ]
     },
     "execution_count": 4,
     "metadata": {},
     "output_type": "execute_result"
    }
   ],
   "source": [
    "img = np.array(opening)\n",
    "column = np.argwhere(np.any(img==255, axis = 0))[0]\n",
    "c = column[0]\n",
    "row_columnX = img[:,3:4]\n",
    "print(row_columnX.shape)\n",
    "row = np.argwhere(np.any(row_columnX==255, axis = 1))[0]\n",
    "r = row[0]\n",
    "print(c)\n",
    "print(r)\n",
    "ctrImg = np.zeros(img.shape)\n",
    "print(img.shape)\n",
    "height, width = img.shape\n",
    "ctrImg[r,c] = 255\n",
    "coor = [r,c]\n",
    "startCoor = [r,c]\n",
    "print(ctrImg[r,c])\n",
    "print(coor)\n",
    "try_img = np.zeros(img.shape)\n",
    "for i in range(height - r):\n",
    "    for j in range(width - c):\n",
    "        try_img[i+r][j+c] = 255\n",
    "cv2.imwrite(os.path.join(dir_result, \"try.jpg\"), try_img)"
   ]
  },
  {
   "cell_type": "code",
   "execution_count": 5,
   "metadata": {
    "scrolled": true
   },
   "outputs": [
    {
     "name": "stdout",
     "output_type": "stream",
     "text": [
      "[768, 288]\n"
     ]
    },
    {
     "data": {
      "text/plain": [
       "True"
      ]
     },
     "execution_count": 5,
     "metadata": {},
     "output_type": "execute_result"
    }
   ],
   "source": [
    "maksCoorR, maksCoorC = img.shape\n",
    "coorHalfWrist = [int(maksCoorR), int(maksCoorC/2)]\n",
    "print(coorHalfWrist)\n",
    "try1_img = np.zeros(img.shape)\n",
    "for i in range(coorHalfWrist[0]):\n",
    "    for j in range(coorHalfWrist[1]):\n",
    "        try1_img[i][j] = 255\n",
    "cv2.imwrite(os.path.join(dir_result, \"try1.jpg\"), try1_img)"
   ]
  },
  {
   "cell_type": "code",
   "execution_count": 6,
   "metadata": {
    "collapsed": true,
    "scrolled": true
   },
   "outputs": [],
   "source": [
    "newCoor = [0,0]\n",
    "coorDis = []\n",
    "direction = []\n",
    "dire = 7\n",
    "indikator = 1\n",
    "count = 0\n",
    "counts = 0\n",
    "while indikator == 1:\n",
    "    counts += 1\n",
    "    if dire % 2 == 0:\n",
    "        startDir = (dire+7) % 8\n",
    "    else:\n",
    "        startDir = (dire+6) % 8\n",
    "    currentDir = startDir\n",
    "    for i in range(8):\n",
    "        if currentDir == 8:\n",
    "            currentDir = 0\n",
    "        if currentDir == 0:\n",
    "            posisi = [0, 1]\n",
    "        elif currentDir == 1:\n",
    "            posisi = [-1, 1]\n",
    "        elif currentDir == 2:\n",
    "            posisi = [-1, 0]\n",
    "        elif currentDir == 3:\n",
    "            posisi = [-1, -1]\n",
    "        elif currentDir == 4:\n",
    "            posisi = [0, -1]\n",
    "        elif currentDir == 5:\n",
    "            posisi = [1, -1]\n",
    "        elif currentDir == 6:\n",
    "            posisi = [1, 0]\n",
    "        elif currentDir == 7:\n",
    "            posisi = [1, 1]\n",
    "        dire = currentDir\n",
    "#         print(\"posisi\")\n",
    "#         print(posisi)\n",
    "#         print(\"coor\")\n",
    "#         print(coor)\n",
    "        newCoor[0] = coor[0] + posisi[0]\n",
    "        newCoor[1] = coor[1] + posisi[1]\n",
    "#         print(\"newCoor\")\n",
    "#         print(newCoor)\n",
    "        if newCoor[0] >= 0 and newCoor[1] >= 0 and newCoor[0] < maksCoorR-1 and newCoor[1] < maksCoorC-1:\n",
    "            if img[newCoor[0], newCoor[1]] == 255:\n",
    "                ctrImg[newCoor[0], newCoor[1]] = 255\n",
    "                coor[0] = newCoor[0]\n",
    "                coor[1] = newCoor[1]\n",
    "#                 print(newCoor)\n",
    "                a = math.pow((newCoor[0] - coorHalfWrist[0] + 1),2)\n",
    "                b = math.pow((newCoor[1] - coorHalfWrist[1] + 1),2)\n",
    "                c = a + b\n",
    "#                 print(c)\n",
    "                distances = math.sqrt(c)\n",
    "                coorDis.append([])\n",
    "                direction.append([])\n",
    "                coorDis[count].append(newCoor[0])\n",
    "                coorDis[count].append(newCoor[1])\n",
    "                coorDis[count].append(distances)\n",
    "                direction[count].append(dire)\n",
    "                count += 1\n",
    "                break\n",
    "            else:\n",
    "                currentDir += 1\n",
    "        else:\n",
    "            currentDir += 1\n",
    "    if startCoor == coor:\n",
    "        indikator = 0"
   ]
  },
  {
   "cell_type": "code",
   "execution_count": 7,
   "metadata": {},
   "outputs": [
    {
     "data": {
      "text/plain": [
       "2444"
      ]
     },
     "execution_count": 7,
     "metadata": {},
     "output_type": "execute_result"
    }
   ],
   "source": [
    "count"
   ]
  },
  {
   "cell_type": "code",
   "execution_count": 8,
   "metadata": {},
   "outputs": [
    {
     "data": {
      "text/plain": [
       "True"
      ]
     },
     "execution_count": 8,
     "metadata": {},
     "output_type": "execute_result"
    }
   ],
   "source": [
    "cv2.imwrite(os.path.join(dir_result, tail), ctrImg)"
   ]
  },
  {
   "cell_type": "code",
   "execution_count": 9,
   "metadata": {},
   "outputs": [
    {
     "name": "stdout",
     "output_type": "stream",
     "text": [
      "[[399   2]]\n",
      "45.0444225182\n"
     ]
    }
   ],
   "source": [
    "# Distance Distribution Diagram\n",
    "sumbuX = []\n",
    "sumbuX = np.arange(len(coorDis))\n",
    "sumbuX = np.array(sumbuX)\n",
    "minDistance = np.amin(coorDis, axis =0)[2]\n",
    "indexDistance = np.argwhere(coorDis == minDistance)\n",
    "r = indexDistance[0][0]\n",
    "c = 0\n",
    "print(indexDistance)\n",
    "print(minDistance)"
   ]
  },
  {
   "cell_type": "code",
   "execution_count": 10,
   "metadata": {},
   "outputs": [
    {
     "name": "stdout",
     "output_type": "stream",
     "text": [
      "2444\n"
     ]
    }
   ],
   "source": [
    "newCoorDis = []\n",
    "for i in range(len(coorDis) - r):\n",
    "    newCoorDis.append(coorDis[i+r])\n",
    "for i in range(r):\n",
    "    newCoorDis.append(coorDis[i])\n",
    "newCoorDis = np.array(newCoorDis)\n",
    "print(len(newCoorDis))"
   ]
  },
  {
   "cell_type": "code",
   "execution_count": 11,
   "metadata": {},
   "outputs": [
    {
     "name": "stdout",
     "output_type": "stream",
     "text": [
      "[[ 722.  289.    0.]\n",
      " [ 721.  290.    0.]\n",
      " [ 721.  291.    0.]\n",
      " ..., \n",
      " [ 721.  286.    0.]\n",
      " [ 721.  287.    0.]\n",
      " [ 721.  288.    0.]]\n",
      "2444\n"
     ]
    }
   ],
   "source": [
    "whiteDis = float(550)\n",
    "r = []\n",
    "c = []\n",
    "for i in range(len(newCoorDis)):\n",
    "    if newCoorDis[i][0] > whiteDis:\n",
    "        newCoorDis[i][2] = 0\n",
    "        ctrImg[int(newCoorDis[i][0]), int(newCoorDis[i][1])] = 0\n",
    "print(newCoorDis)\n",
    "distancess = []\n",
    "for i in range(len(newCoorDis)):\n",
    "    distancess.append(newCoorDis[i][2])\n",
    "distancess = np.array(distancess)\n",
    "print(len(distancess))"
   ]
  },
  {
   "cell_type": "code",
   "execution_count": 12,
   "metadata": {},
   "outputs": [
    {
     "data": {
      "text/plain": [
       "True"
      ]
     },
     "execution_count": 12,
     "metadata": {},
     "output_type": "execute_result"
    }
   ],
   "source": [
    "cv2.imwrite(os.path.join(dir_result, tail), ctrImg)"
   ]
  },
  {
   "cell_type": "code",
   "execution_count": 13,
   "metadata": {
    "collapsed": true
   },
   "outputs": [],
   "source": [
    "def getPeak(Data, i, s):\n",
    "    if (i-s) < 1:\n",
    "        top = 0\n",
    "    else:\n",
    "        top = i - s - 1\n",
    "    y = Data[1]\n",
    "    \n",
    "    if (i+s) > len(y):\n",
    "        bottom = len(y) - 1\n",
    "    else:\n",
    "        bottom = i + s - 1\n",
    "    p = []\n",
    "    if y[i] == max(y[top:bottom]) or y[i] == min(y[top:bottom]):\n",
    "        p = [Data[0][i], Data[1][i]]\n",
    "#         if Data[1][i] > 0.0:\n",
    "#             temp = 1\n",
    "    else:\n",
    "        p.append(float('nan'))\n",
    "        p.append(float('nan'))\n",
    "    return p"
   ]
  },
  {
   "cell_type": "code",
   "execution_count": 14,
   "metadata": {
    "collapsed": true
   },
   "outputs": [],
   "source": [
    "def fpeak(sumbuX, distancess, s):\n",
    "    rx = len(sumbuX)\n",
    "    ry = len(distancess)\n",
    "    if s == 0:\n",
    "        s = 1\n",
    "    Data = np.vstack((sumbuX, distancess))\n",
    "    output = []\n",
    "    for i in range(rx):\n",
    "        isP= getPeak(Data, i, s)\n",
    "#         print(isP)\n",
    "        if np.isnan(isP).sum() == 0:\n",
    "            output.append(isP)\n",
    "#             if temp == 1:\n",
    "#                 print(\"hola\")\n",
    "    return output"
   ]
  },
  {
   "cell_type": "code",
   "execution_count": 15,
   "metadata": {
    "collapsed": true,
    "scrolled": true
   },
   "outputs": [],
   "source": [
    "s = 50\n",
    "output = fpeak(sumbuX, distancess, s)\n",
    "for i in range(len(output)):\n",
    "    if i == len(output) - 1:\n",
    "        output[i].append(0)\n",
    "        break\n",
    "    if output[i][1] == output[i+1][1]:\n",
    "        output[i].append(1)\n",
    "    else:\n",
    "        output[i].append(0)\n",
    "#         print(\"hahaha\")\n",
    "# print(output)"
   ]
  },
  {
   "cell_type": "code",
   "execution_count": 16,
   "metadata": {},
   "outputs": [
    {
     "name": "stdout",
     "output_type": "stream",
     "text": [
      "[[276.0, 0.0, 0], [395.0, 408.06126990931153, 0], [475.0, 335.19695702676063, 0], [670.0, 522.7513749384118, 0], [827.0, 371.28560435330644, 0], [1046.0, 584.45187996960021, 0], [1254.0, 388.08504222657177, 0], [1486.0, 603.29926238973644, 0], [1858.0, 282.66764936936096, 0], [2029.0, 467.44946250905025, 0], [2443.0, 0.0, 0]]\n"
     ]
    }
   ],
   "source": [
    "improveOut = []\n",
    "for i in output:\n",
    "    if i[2] == float(0):\n",
    "        improveOut.append(i)\n",
    "# sorted(improveOut, reverse=True)\n",
    "output = improveOut\n",
    "print(output)"
   ]
  },
  {
   "cell_type": "code",
   "execution_count": 17,
   "metadata": {},
   "outputs": [
    {
     "name": "stdout",
     "output_type": "stream",
     "text": [
      "276.0\n",
      "[551.0, 482.0]\n",
      "1254.0\n",
      "[380.0, 316.0]\n"
     ]
    }
   ],
   "source": [
    "# print(outpuT)\n",
    "pixelP1 = output[0][0]\n",
    "pixelP2 = output[6][0]\n",
    "print(pixelP1)\n",
    "coorP1 = [newCoorDis[int(pixelP1)][0], newCoorDis[int(pixelP1)][1]]\n",
    "coorP2 = [newCoorDis[int(pixelP2)][0], newCoorDis[int(pixelP2)][1]]\n",
    "print(coorP1)\n",
    "print(pixelP2)\n",
    "print(coorP2)"
   ]
  },
  {
   "cell_type": "code",
   "execution_count": 18,
   "metadata": {},
   "outputs": [
    {
     "name": "stdout",
     "output_type": "stream",
     "text": [
      "0.970760233918\n",
      "44.149976618908916\n"
     ]
    }
   ],
   "source": [
    "# kemiringan p1 dam p2\n",
    "temp = (coorP2[1] - coorP1[1]) / (coorP2[0] - coorP1[0])\n",
    "print(temp)\n",
    "deg = math.atan(temp) / math.pi * 180\n",
    "print(deg)"
   ]
  },
  {
   "cell_type": "code",
   "execution_count": 19,
   "metadata": {},
   "outputs": [
    {
     "name": "stderr",
     "output_type": "stream",
     "text": [
      "C:\\ProgramData\\Anaconda3\\lib\\site-packages\\ipykernel_launcher.py:1: DeprecationWarning: `imrotate` is deprecated!\n",
      "`imrotate` is deprecated in SciPy 1.0.0, and will be removed in 1.2.0.\n",
      "Use ``skimage.transform.rotate`` instead.\n",
      "  \"\"\"Entry point for launching an IPython kernel.\n"
     ]
    }
   ],
   "source": [
    "newImg = misc.imrotate(img_gray,90 - deg,interp='bilinear')\n",
    "# import skimage.transform\n",
    "# newImg = skimage.transform.rotate(img_gray, 90-deg)"
   ]
  },
  {
   "cell_type": "code",
   "execution_count": 20,
   "metadata": {},
   "outputs": [
    {
     "data": {
      "text/plain": [
       "True"
      ]
     },
     "execution_count": 20,
     "metadata": {},
     "output_type": "execute_result"
    }
   ],
   "source": [
    "cv2.imwrite(os.path.join(dir_result, tail), newImg)"
   ]
  },
  {
   "cell_type": "code",
   "execution_count": 21,
   "metadata": {
    "collapsed": true
   },
   "outputs": [],
   "source": [
    "temp = np.zeros_like(img)\n",
    "height, width = img.shape\n",
    "temp[int(coorP1[0])][int(coorP1[1])] = 255\n",
    "temp[int(coorP2[0])][int(coorP2[1])] = 255\n",
    "# for i in range(width - int(coorP1[1])):\n",
    "#     img[int(coorP1[0])][int(coorP1[1])-i] = 0\n",
    "# for i in range(width - int(coorP2[1])):\n",
    "#     img[int(coorP2[0])][int(coorP2[1])+i] = 0"
   ]
  },
  {
   "cell_type": "code",
   "execution_count": 22,
   "metadata": {},
   "outputs": [
    {
     "name": "stdout",
     "output_type": "stream",
     "text": [
      "[[0 0 0 ..., 0 0 0]\n",
      " [0 0 0 ..., 0 0 0]\n",
      " [0 0 0 ..., 0 0 0]\n",
      " ..., \n",
      " [0 0 0 ..., 0 0 0]\n",
      " [0 0 0 ..., 0 0 0]\n",
      " [0 0 0 ..., 0 0 0]]\n"
     ]
    },
    {
     "name": "stderr",
     "output_type": "stream",
     "text": [
      "C:\\ProgramData\\Anaconda3\\lib\\site-packages\\ipykernel_launcher.py:1: DeprecationWarning: `imrotate` is deprecated!\n",
      "`imrotate` is deprecated in SciPy 1.0.0, and will be removed in 1.2.0.\n",
      "Use ``skimage.transform.rotate`` instead.\n",
      "  \"\"\"Entry point for launching an IPython kernel.\n"
     ]
    }
   ],
   "source": [
    "tempRotate = misc.imrotate(temp,90 - deg,interp='bilinear')\n",
    "print(tempRotate)"
   ]
  },
  {
   "cell_type": "code",
   "execution_count": 23,
   "metadata": {},
   "outputs": [
    {
     "data": {
      "text/plain": [
       "True"
      ]
     },
     "execution_count": 23,
     "metadata": {},
     "output_type": "execute_result"
    }
   ],
   "source": [
    "cv2.imwrite(os.path.join(dir_result, tail), tempRotate)"
   ]
  },
  {
   "cell_type": "code",
   "execution_count": 24,
   "metadata": {},
   "outputs": [
    {
     "name": "stdout",
     "output_type": "stream",
     "text": [
      "[[360 305]\n",
      " [360 543]\n",
      " [361 304]\n",
      " [361 305]\n",
      " [361 543]\n",
      " [361 544]]\n"
     ]
    }
   ],
   "source": [
    "tempIndex = np.argwhere(tempRotate>0)\n",
    "print(tempIndex)"
   ]
  },
  {
   "cell_type": "code",
   "execution_count": 25,
   "metadata": {},
   "outputs": [
    {
     "name": "stdout",
     "output_type": "stream",
     "text": [
      "[360, 305]\n",
      "[361, 544]\n"
     ]
    }
   ],
   "source": [
    "newCoorP1 = [tempIndex[0][0], tempIndex[0][1]]\n",
    "newCoorP2 = [tempIndex[len(tempIndex)-1][0], tempIndex[len(tempIndex)-1][1]]\n",
    "print(newCoorP1)\n",
    "print(newCoorP2)"
   ]
  },
  {
   "cell_type": "code",
   "execution_count": 26,
   "metadata": {},
   "outputs": [
    {
     "name": "stdout",
     "output_type": "stream",
     "text": [
      "239.00209204105306\n",
      "599\n",
      "544\n",
      "[[ 64  69  74 ...,  69  65  62]\n",
      " [ 71  75  78 ...,  71  67  65]\n",
      " [ 77  80  83 ...,  71  70  65]\n",
      " ..., \n",
      " [111 111 112 ...,  65  64  64]\n",
      " [110 110 111 ...,  64  64  64]\n",
      " [110 109 109 ...,  64  64  63]]\n"
     ]
    }
   ],
   "source": [
    "a = math.pow((newCoorP1[0]-newCoorP2[0]),2)\n",
    "b = math.pow((newCoorP1[1]-newCoorP2[1]),2)\n",
    "distance = math.sqrt(a+b)\n",
    "print(distance)\n",
    "# ROI output\n",
    "print(int(newCoorP1[0]+distance))\n",
    "print(int(newCoorP1[1]+distance))\n",
    "fiturI = newImg[int(newCoorP1[0]):int(newCoorP1[0]+distance), int(newCoorP1[1]):int(newCoorP1[1]+distance)]\n",
    "print(fiturI)"
   ]
  },
  {
   "cell_type": "code",
   "execution_count": 27,
   "metadata": {},
   "outputs": [
    {
     "data": {
      "text/plain": [
       "True"
      ]
     },
     "execution_count": 27,
     "metadata": {},
     "output_type": "execute_result"
    }
   ],
   "source": [
    "cv2.imwrite(os.path.join(dir_result, tail), fiturI)"
   ]
  },
  {
   "cell_type": "code",
   "execution_count": 28,
   "metadata": {},
   "outputs": [
    {
     "data": {
      "text/plain": [
       "(239, 239)"
      ]
     },
     "execution_count": 28,
     "metadata": {},
     "output_type": "execute_result"
    }
   ],
   "source": [
    "fiturI.shape"
   ]
  },
  {
   "cell_type": "code",
   "execution_count": 29,
   "metadata": {},
   "outputs": [
    {
     "data": {
      "text/plain": [
       "True"
      ]
     },
     "execution_count": 29,
     "metadata": {},
     "output_type": "execute_result"
    }
   ],
   "source": [
    "# Median Filter\n",
    "medFil = cv2.medianBlur(fiturI,5)\n",
    "cv2.imwrite(os.path.join(dir_result, \"medianFilter.jpg\"), medFil)"
   ]
  },
  {
   "cell_type": "code",
   "execution_count": 30,
   "metadata": {},
   "outputs": [
    {
     "data": {
      "text/plain": [
       "(768, 576)"
      ]
     },
     "execution_count": 30,
     "metadata": {},
     "output_type": "execute_result"
    }
   ],
   "source": [
    "blur.shape"
   ]
  },
  {
   "cell_type": "code",
   "execution_count": 31,
   "metadata": {},
   "outputs": [
    {
     "data": {
      "text/plain": [
       "True"
      ]
     },
     "execution_count": 31,
     "metadata": {},
     "output_type": "execute_result"
    }
   ],
   "source": [
    "# Adaptive HistEq\n",
    "clahe = cv2.createCLAHE(clipLimit=0.08, tileGridSize=(2,2))\n",
    "cl1 = clahe.apply(medFil)\n",
    "cv2.imwrite(os.path.join(dir_result, \"clahe.jpg\"), cl1)"
   ]
  },
  {
   "cell_type": "code",
   "execution_count": 32,
   "metadata": {},
   "outputs": [
    {
     "data": {
      "text/plain": [
       "array([[ 71,  74,  78, ...,  70,  65,  65],\n",
       "       [ 74,  77,  80, ...,  71,  69,  65],\n",
       "       [ 78,  82,  83, ...,  71,  70,  69],\n",
       "       ..., \n",
       "       [112, 112, 112, ...,  65,  64,  64],\n",
       "       [112, 113, 113, ...,  64,  64,  64],\n",
       "       [112, 112, 113, ...,  64,  64,  64]], dtype=uint8)"
      ]
     },
     "execution_count": 32,
     "metadata": {},
     "output_type": "execute_result"
    }
   ],
   "source": [
    "cl1"
   ]
  },
  {
   "cell_type": "code",
   "execution_count": 33,
   "metadata": {},
   "outputs": [
    {
     "data": {
      "text/plain": [
       "True"
      ]
     },
     "execution_count": 33,
     "metadata": {},
     "output_type": "execute_result"
    }
   ],
   "source": [
    "# Noise Removal\n",
    "from scipy.signal import wiener\n",
    "wienerImg = cl1.astype(np.float32)\n",
    "wienerImg = wiener(wienerImg, mysize=([12,12]))\n",
    "cv2.imwrite(os.path.join(dir_result, \"noiseRem.jpg\"), wienerImg)"
   ]
  },
  {
   "cell_type": "code",
   "execution_count": 34,
   "metadata": {},
   "outputs": [
    {
     "data": {
      "text/plain": [
       "array([[  64.36986155,   68.21722055,   72.73397275, ...,   63.82590014,\n",
       "          58.65620765,   57.51706225],\n",
       "       [  68.30633436,   72.02902261,   75.56310889, ...,   65.66332894,\n",
       "          63.12165623,   58.71368658],\n",
       "       [  72.89543903,   77.44177552,   79.09732676, ...,   66.40561747,\n",
       "          64.80449366,   63.0283597 ],\n",
       "       ..., \n",
       "       [ 107.67730167,  108.30300948,  108.77239123, ...,   60.43830329,\n",
       "          58.93772167,   58.10599038],\n",
       "       [ 107.13911694,  108.78016641,  109.30884603, ...,   58.92778828,\n",
       "          58.1933708 ,   57.26438005],\n",
       "       [ 106.44560255,  107.24622786,  108.78544284, ...,   58.08970075,\n",
       "          57.25940797,   56.19807993]])"
      ]
     },
     "execution_count": 34,
     "metadata": {},
     "output_type": "execute_result"
    }
   ],
   "source": [
    "wienerImg"
   ]
  },
  {
   "cell_type": "code",
   "execution_count": 35,
   "metadata": {
    "collapsed": true
   },
   "outputs": [],
   "source": [
    "# def ADF(imgADF, num_iter, delta_t, kappa, option):\n",
    "#     img = imgADF.astype('double')\n",
    "#     diff_im = img\n",
    "#     dx = 1\n",
    "#     dy = 1\n",
    "#     dd = math.sqrt(2)\n",
    "#     hN = [[0,1,0], [0,-1,0], [0,0,0]] \n",
    "#     hN = np.array(hN)\n",
    "#     hS = [[0,0,0], [0,-1,0], [0,1,0]]\n",
    "#     hS = np.array(hS)\n",
    "#     hE = [[0,0,0], [0,-1,1], [0,0,0]]\n",
    "#     hE = np.array(hE)\n",
    "#     hW = [[0,0,0], [1,-1,0], [0,0,0]]\n",
    "#     hW = np.array(hW)\n",
    "#     hNE = [[0,0,1], [0,-1,0], [0,0,0]]\n",
    "#     hNE = np.array(hNE)\n",
    "#     hSE = [[0,0,0], [0,-1,0], [0,0,1]]\n",
    "#     hSE = np.array(hSE)\n",
    "#     hSW = [[0,0,0], [0,-1,0], [1,0,0]]\n",
    "#     hSW = np.array(hSW)\n",
    "#     hNW = [[1,0,0], [0,-1,0], [0,0,0]]\n",
    "#     hNW = np.array(hNW)\n",
    "#     cN = 0; cS = 0; cW = 0; cE = 0; cNE = 0; cSE = 0; cSW = 0; cNW = 0\n",
    "#     for t in range(num_iter):\n",
    "#         nablaN = cv2.filter2D(diff_im,-1,hN)\n",
    "#         nablaS = cv2.filter2D(diff_im,-1,hS)\n",
    "#         nablaE = cv2.filter2D(diff_im,-1,hE)\n",
    "#         nablaW = cv2.filter2D(diff_im,-1,hW)\n",
    "#         nablaNE = cv2.filter2D(diff_im,-1,hNE)\n",
    "#         nablaSE = cv2.filter2D(diff_im,-1,hSE)\n",
    "#         nablaSW = cv2.filter2D(diff_im,-1,hSW)\n",
    "#         nablaNW = cv2.filter2D(diff_im,-1,hNW)\n",
    "#     # Diffusion function\n",
    "#     if option == 1:\n",
    "#         cN = np.exp(-(pow((nablaN/kappa),2)))\n",
    "#         cS = np.exp(-(pow((nablaS/kappa),2)))\n",
    "#         cE = np.exp(-(pow((nablaE/kappa),2)))\n",
    "#         cW = np.exp(-(pow((nablaW/kappa),2)))\n",
    "#         cNE = np.exp(-(pow((nablaNE/kappa),2)))\n",
    "#         cSE = np.exp(-(pow((nablaSE/kappa),2)))\n",
    "#         cSW = np.exp(-(pow((nablaSW/kappa),2)))\n",
    "#         cNW = np.exp(-(pow((nablaNW/kappa),2)))\n",
    "#     elif option == 2:\n",
    "#         cN = 1 / (1+ pow((nablaN/kappa),2))\n",
    "#         cS = 1 / (1+ pow((nablaS/kappa),2))\n",
    "#         cE = 1 / (1+ pow((nablaE/kappa),2))\n",
    "#         cW = 1 / (1+ pow((nablaW/kappa),2))\n",
    "#         cNE = 1 / (1+ pow((nablaNE/kappa),2))\n",
    "#         cSE = 1 / (1+ pow((nablaSE/kappa),2))\n",
    "#         cSW = 1 / (1+ pow((nablaSW/kappa),2))\n",
    "#         cNW = 1 / (1+ pow((nablaNW/kappa),2))\n",
    "#     diff_im = diff_im + delta_t * ((1/(pow(dy,2)))*cN*nablaN + (1/(pow(dy,2)))*cS*nablaS + (1/(pow(dx,2)))*cW*nablaW +\n",
    "#         (1/(pow(dx,2)))*cE*nablaE + (1/(pow(dd,2)))*cNE*nablaNE + (1/(pow(dd,2)))*cSE*nablaSE + (1/(pow(dd,2)))*cSW*nablaSW +\n",
    "#         (1/(pow(dd,2)))*cNW*nablaNW)\n",
    "#     return diff_im"
   ]
  },
  {
   "cell_type": "code",
   "execution_count": 58,
   "metadata": {
    "collapsed": true
   },
   "outputs": [],
   "source": [
    "def ADF(imgADF, num_iter, delta_t, kappa, option):\n",
    "    diff_im = imgADF\n",
    "    dx = 1\n",
    "    dy = 1\n",
    "    dd = math.sqrt(2)\n",
    "    hN = [[0,1,0], [0,-1,0], [0,0,0]] \n",
    "    hN = np.array(hN)\n",
    "    hS = [[0,0,0], [0,-1,0], [0,1,0]]\n",
    "    hS = np.array(hS)\n",
    "    hE = [[0,0,0], [0,-1,1], [0,0,0]]\n",
    "    hE = np.array(hE)\n",
    "    hW = [[0,0,0], [1,-1,0], [0,0,0]]\n",
    "    hW = np.array(hW)\n",
    "    hNE = [[0,0,1], [0,-1,0], [0,0,0]]\n",
    "    hNE = np.array(hNE)\n",
    "    hSE = [[0,0,0], [0,-1,0], [0,0,1]]\n",
    "    hSE = np.array(hSE)\n",
    "    hSW = [[0,0,0], [0,-1,0], [1,0,0]]\n",
    "    hSW = np.array(hSW)\n",
    "    hNW = [[1,0,0], [0,-1,0], [0,0,0]]\n",
    "    hNW = np.array(hNW)\n",
    "    cN = 0; cS = 0; cW = 0; cE = 0; cNE = 0; cSE = 0; cSW = 0; cNW = 0\n",
    "    for t in range(num_iter):\n",
    "        nablaN = cv2.filter2D(diff_im,-1,hN)\n",
    "        nablaS = cv2.filter2D(diff_im,-1,hS)\n",
    "        nablaE = cv2.filter2D(diff_im,-1,hE)\n",
    "        nablaW = cv2.filter2D(diff_im,-1,hW)\n",
    "        nablaNE = cv2.filter2D(diff_im,-1,hNE)\n",
    "        nablaSE = cv2.filter2D(diff_im,-1,hSE)\n",
    "        nablaSW = cv2.filter2D(diff_im,-1,hSW)\n",
    "        nablaNW = cv2.filter2D(diff_im,-1,hNW)\n",
    "    # Diffusion function\n",
    "    if option == 1:\n",
    "        cN = np.exp(-(nablaN/kappa)**2)\n",
    "        cS = np.exp(-(nablaS/kappa)**2)\n",
    "        cE = np.exp(-(nablaE/kappa)**2)\n",
    "        cW = np.exp(-(nablaW/kappa)**2)\n",
    "        cNE = np.exp(-(nablaNE/kappa)**2)\n",
    "        cSE = np.exp(-(nablaSE/kappa)**2)\n",
    "        cSW = np.exp(-(nablaSW/kappa)**2)\n",
    "        cNW = np.exp(-(nablaNW/kappa)**2)\n",
    "    elif option == 2:\n",
    "        cN = 1 / (1+ (nablaN/kappa)**2)\n",
    "        cS = 1 / (1+ (nablaS/kappa)**2)\n",
    "        cE = 1 / (1+ (nablaE/kappa)**2)\n",
    "        cW = 1 / (1+ (nablaW/kappa)**2)\n",
    "        cNE = 1 / (1+ (nablaNE/kappa)**2)\n",
    "        cSE = 1 / (1+ (nablaSE/kappa)**2)\n",
    "        cSW = 1 / (1+ (nablaSW/kappa)**2)\n",
    "        cNW = 1 / (1+ (nablaNW/kappa)**2)\n",
    "    diff_im = diff_im + delta_t * ((1/dy**2)*cN*nablaN + \n",
    "                (1/dy**2)*cS*nablaS +\n",
    "                (1/dx**2)*cW*nablaW +\n",
    "                (1/dx**2)*cE*nablaE +\n",
    "\n",
    "                (1/dd**2)*cNE*nablaNE +\n",
    "                (1/dd**2)*cSE*nablaSE +\n",
    "                (1/dd**2)*cSW*nablaSW +\n",
    "                (1/dd**2)*cNW*nablaNW)\n",
    "    return diff_im"
   ]
  },
  {
   "cell_type": "code",
   "execution_count": 59,
   "metadata": {},
   "outputs": [
    {
     "data": {
      "text/plain": [
       "True"
      ]
     },
     "execution_count": 59,
     "metadata": {},
     "output_type": "execute_result"
    }
   ],
   "source": [
    "# Anistropic Diffusion Filter\n",
    "anisodiff = ADF(wienerImg, 5, 1/7, 30, 2)\n",
    "cv2.imwrite(os.path.join(dir_result, \"anisodiff.jpg\"), anisodiff)"
   ]
  },
  {
   "cell_type": "code",
   "execution_count": 60,
   "metadata": {},
   "outputs": [
    {
     "name": "stdout",
     "output_type": "stream",
     "text": [
      "[[  68.6114127    70.38200407   74.26821005 ...,   64.35942962   61.4165669\n",
      "    59.73072229]\n",
      " [  70.62317641   72.29309585   75.79976528 ...,   65.03400981\n",
      "    62.36989501   61.20716484]\n",
      " [  75.21088152   76.46130578   79.16728158 ...,   66.32752957\n",
      "    64.41883642   63.51437572]\n",
      " ..., \n",
      " [ 108.13978425  108.43291339  109.18869864 ...,   60.37264501\n",
      "    59.26891782   58.77853669]\n",
      " [ 107.76574948  108.09062265  108.97296166 ...,   59.2580921    58.14253523\n",
      "    57.7351479 ]\n",
      " [ 107.53523422  108.06634213  108.91474572 ...,   58.76385563   57.7314053\n",
      "    57.37278267]]\n"
     ]
    }
   ],
   "source": [
    "print(anisodiff)"
   ]
  },
  {
   "cell_type": "code",
   "execution_count": 61,
   "metadata": {
    "collapsed": true
   },
   "outputs": [],
   "source": [
    "# convert ke uint8\n",
    "anisodiff = anisodiff.astype('uint8')"
   ]
  },
  {
   "cell_type": "code",
   "execution_count": 62,
   "metadata": {},
   "outputs": [
    {
     "data": {
      "text/plain": [
       "(239, 239)"
      ]
     },
     "execution_count": 62,
     "metadata": {},
     "output_type": "execute_result"
    }
   ],
   "source": [
    "anisodiff.shape"
   ]
  },
  {
   "cell_type": "code",
   "execution_count": 63,
   "metadata": {
    "collapsed": true
   },
   "outputs": [],
   "source": [
    "# import numpy as np\n",
    "# from medpy.filter.smoothing import anisotropic_diffusion\n",
    "\n",
    "# img = np.random.uniform(size=(32,32))\n",
    "# img_filtered = anisotropic_diffusion(wienerImg)\n",
    "# cv2.imwrite(os.path.join(dir_result, \"anisodiff.jpg\"), img_filtered)"
   ]
  },
  {
   "cell_type": "code",
   "execution_count": 64,
   "metadata": {},
   "outputs": [
    {
     "data": {
      "text/plain": [
       "True"
      ]
     },
     "execution_count": 64,
     "metadata": {},
     "output_type": "execute_result"
    }
   ],
   "source": [
    "kernel=cv2.getStructuringElement(cv2.MORPH_ELLIPSE,(3,3))\n",
    "closing = cv2.morphologyEx(anisodiff, cv2.MORPH_CLOSE, kernel)\n",
    "cv2.imwrite(os.path.join(dir_result, \"closing.jpg\"), closing)"
   ]
  },
  {
   "cell_type": "code",
   "execution_count": 65,
   "metadata": {},
   "outputs": [
    {
     "data": {
      "text/plain": [
       "True"
      ]
     },
     "execution_count": 65,
     "metadata": {},
     "output_type": "execute_result"
    }
   ],
   "source": [
    "substract =  anisodiff - closing\n",
    "cv2.imwrite(os.path.join(dir_result, \"subtract.jpg\"), substract)"
   ]
  },
  {
   "cell_type": "code",
   "execution_count": 66,
   "metadata": {},
   "outputs": [
    {
     "data": {
      "text/plain": [
       "numpy.ndarray"
      ]
     },
     "execution_count": 66,
     "metadata": {},
     "output_type": "execute_result"
    }
   ],
   "source": [
    "type(substract)"
   ]
  },
  {
   "cell_type": "code",
   "execution_count": 67,
   "metadata": {},
   "outputs": [
    {
     "name": "stdout",
     "output_type": "stream",
     "text": [
      "<class 'PIL.Image.Image'>\n"
     ]
    }
   ],
   "source": [
    "from PIL import ImageEnhance, Image\n",
    "img = Image.fromarray(substract)\n",
    "print(type(img))"
   ]
  },
  {
   "cell_type": "code",
   "execution_count": 68,
   "metadata": {},
   "outputs": [
    {
     "name": "stdout",
     "output_type": "stream",
     "text": [
      "<PIL.ImageEnhance.Contrast object at 0x000001CD852C0828>\n"
     ]
    }
   ],
   "source": [
    "enhancer = ImageEnhance.Contrast(img)\n",
    "print(enhancer)"
   ]
  },
  {
   "cell_type": "code",
   "execution_count": 71,
   "metadata": {},
   "outputs": [
    {
     "data": {
      "text/plain": [
       "True"
      ]
     },
     "execution_count": 71,
     "metadata": {},
     "output_type": "execute_result"
    }
   ],
   "source": [
    "hist,bins = np.histogram(substract.flatten(),256,[0,256])\n",
    "cdf = hist.cumsum()\n",
    "cdf_normalized = cdf * hist.max()/ cdf.max()\n",
    "cdf_m = np.ma.masked_equal(cdf,0)\n",
    "cdf_m = (cdf_m - cdf_m.min())*255/(cdf_m.max()-cdf_m.min())\n",
    "cdf = np.ma.filled(cdf_m,0).astype('uint8')\n",
    "img2 = cdf[substract]\n",
    "cv2.imwrite(os.path.join(dir_result, \"adjust.jpg\"), img2)"
   ]
  },
  {
   "cell_type": "code",
   "execution_count": null,
   "metadata": {
    "collapsed": true
   },
   "outputs": [],
   "source": []
  }
 ],
 "metadata": {
  "kernelspec": {
   "display_name": "Python 3",
   "language": "python",
   "name": "python3"
  },
  "language_info": {
   "codemirror_mode": {
    "name": "ipython",
    "version": 3
   },
   "file_extension": ".py",
   "mimetype": "text/x-python",
   "name": "python",
   "nbconvert_exporter": "python",
   "pygments_lexer": "ipython3",
   "version": "3.6.6"
  }
 },
 "nbformat": 4,
 "nbformat_minor": 2
}
