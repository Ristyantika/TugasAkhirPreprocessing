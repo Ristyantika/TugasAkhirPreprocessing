{
 "cells": [
  {
   "cell_type": "code",
   "execution_count": 1,
   "metadata": {
    "collapsed": true
   },
   "outputs": [],
   "source": [
    "import glob\n",
    "import os\n",
    "import numpy as np\n",
    "import cv2\n",
    "import imutils\n",
    "import math\n",
    "from scipy import misc\n",
    "import copy"
   ]
  },
  {
   "cell_type": "code",
   "execution_count": 2,
   "metadata": {},
   "outputs": [
    {
     "name": "stdout",
     "output_type": "stream",
     "text": [
      "['001', 'l', '940', '01.jpg']\n"
     ]
    }
   ],
   "source": [
    "image = \"data\\\\001_l_940_01.jpg\"\n",
    "original_img = cv2.imread(image)\n",
    "head, tail = os.path.split(image)\n",
    "name = tail.split('_')\n",
    "print(name)"
   ]
  },
  {
   "cell_type": "code",
   "execution_count": 3,
   "metadata": {
    "collapsed": true
   },
   "outputs": [],
   "source": [
    "#rotate image\n",
    "img_rotate = imutils.rotate_bound(original_img, 90)\n",
    "\n",
    "#graylevel image\n",
    "img_gray = cv2.cvtColor(img_rotate, cv2.COLOR_BGR2GRAY)\n",
    "\n",
    "#otsu's thresholding\n",
    "blur = cv2.GaussianBlur(img_gray,(5,5),0)\n",
    "ret3,img_thresh = cv2.threshold(blur,0,255,cv2.THRESH_BINARY+cv2.THRESH_OTSU)\n",
    "\n",
    "#morphological opening\n",
    "sz = 20\n",
    "kernel = cv2.getStructuringElement(cv2.MORPH_ELLIPSE, (2*sz-1, 2*sz-1))\n",
    "opening = cv2.morphologyEx(img_thresh, cv2.MORPH_OPEN, kernel)"
   ]
  },
  {
   "cell_type": "code",
   "execution_count": 64,
   "metadata": {
    "collapsed": true
   },
   "outputs": [],
   "source": [
    "#first pixel with value 255 => vertical to horizontal\n",
    "\n",
    "    #first column\n",
    "column = np.argwhere(np.any(opening==255, axis = 0))[0]\n",
    "c = column[0]\n",
    "\n",
    "    #first row\n",
    "row_columnX = opening[:,c:c+1]\n",
    "row = np.argwhere(np.any(row_columnX==255, axis = 1))[0]\n",
    "r = row[0]"
   ]
  },
  {
   "cell_type": "code",
   "execution_count": 65,
   "metadata": {},
   "outputs": [
    {
     "name": "stdout",
     "output_type": "stream",
     "text": [
      "(768, 576)\n"
     ]
    }
   ],
   "source": [
    "ctrImg = np.zeros(opening.shape)\n",
    "height, width = opening.shape\n",
    "ctrImg[r,c] = 255\n",
    "coor = [r,c]\n",
    "startCoor = [r,c]\n",
    "\n",
    "maksCoorR, maksCoorC = opening.shape\n",
    "coorHalfWrist = [int(maksCoorR), int(maksCoorC/2)]\n",
    "print(ctrImg.shape)"
   ]
  },
  {
   "cell_type": "code",
   "execution_count": 66,
   "metadata": {
    "collapsed": true
   },
   "outputs": [],
   "source": [
    "newCoor = [0,0]\n",
    "coorDis = []\n",
    "direction = []\n",
    "dire = 7\n",
    "indikator = 1\n",
    "count = 0\n",
    "counts = 0\n",
    "while indikator == 1:\n",
    "    counts += 1\n",
    "    if dire % 2 == 0:\n",
    "        startDir = (dire+7) % 8\n",
    "    else:\n",
    "        startDir = (dire+6) % 8\n",
    "    currentDir = startDir\n",
    "    for i in range(8):\n",
    "        if currentDir == 8:\n",
    "            currentDir = 0\n",
    "        if currentDir == 0:\n",
    "            posisi = [0, 1]\n",
    "        elif currentDir == 1:\n",
    "            posisi = [-1, 1]\n",
    "        elif currentDir == 2:\n",
    "            posisi = [-1, 0]\n",
    "        elif currentDir == 3:\n",
    "            posisi = [-1, -1]\n",
    "        elif currentDir == 4:\n",
    "            posisi = [0, -1]\n",
    "        elif currentDir == 5:\n",
    "            posisi = [1, -1]\n",
    "        elif currentDir == 6:\n",
    "            posisi = [1, 0]\n",
    "        elif currentDir == 7:\n",
    "            posisi = [1, 1]\n",
    "        dire = currentDir\n",
    "        newCoor[0] = coor[0] + posisi[0]\n",
    "        newCoor[1] = coor[1] + posisi[1]\n",
    "        if newCoor[0] >= 0 and newCoor[1] >= 0 and newCoor[0] < maksCoorR-1 and newCoor[1] < maksCoorC-1:\n",
    "            if opening[newCoor[0], newCoor[1]] == 255:\n",
    "                ctrImg[newCoor[0], newCoor[1]] = 255\n",
    "                coor[0] = newCoor[0]\n",
    "                coor[1] = newCoor[1]\n",
    "                a = math.pow((newCoor[0] - coorHalfWrist[0] + 1),2)\n",
    "                b = math.pow((newCoor[1] - coorHalfWrist[1] + 1),2)\n",
    "                c = a + b\n",
    "                distances = math.sqrt(c)\n",
    "                coorDis.append([])\n",
    "                direction.append([])\n",
    "                coorDis[count].append(newCoor[0])\n",
    "                coorDis[count].append(newCoor[1])\n",
    "                coorDis[count].append(distances)\n",
    "                direction[count].append(dire)\n",
    "                count += 1\n",
    "                break\n",
    "            else:\n",
    "                currentDir += 1\n",
    "        else:\n",
    "            currentDir += 1\n",
    "    if startCoor == coor:\n",
    "        indikator = 0"
   ]
  },
  {
   "cell_type": "code",
   "execution_count": 67,
   "metadata": {},
   "outputs": [
    {
     "name": "stdout",
     "output_type": "stream",
     "text": [
      "43.0116263352\n"
     ]
    }
   ],
   "source": [
    "sumbuX = []\n",
    "sumbuX = np.arange(len(coorDis))\n",
    "sumbuX = np.array(sumbuX)\n",
    "\n",
    "# minumum Distance \n",
    "distances = []\n",
    "for i in range(len(coorDis)):\n",
    "    distances.append(coorDis[i][2])\n",
    "\n",
    "minDistance = np.amin(distances)\n",
    "checkImage = copy.deepcopy(ctrImg)\n",
    "print(minDistance)\n",
    "\n",
    "#index pixel with minimum distance\n",
    "indexDistance = np.argwhere(coorDis == minDistance)\n",
    "    # 2 == distance\n",
    "for i in indexDistance:\n",
    "    if i[1] == 2:\n",
    "        r = i[0]\n",
    "        break\n",
    "c = 0\n",
    "x, y, d = coorDis[r]\n",
    "\n",
    "    #cek start\n",
    "for j in range(100):\n",
    "    checkImage[x][y+j] = 255"
   ]
  },
  {
   "cell_type": "code",
   "execution_count": 68,
   "metadata": {
    "collapsed": true
   },
   "outputs": [],
   "source": [
    "# sequence \n",
    "newCoorDis = []\n",
    "for i in range(len(coorDis) - r):\n",
    "    newCoorDis.append(coorDis[i+r])\n",
    "for i in range(r):\n",
    "    newCoorDis.append(coorDis[i])\n",
    "newCoorDis = np.array(newCoorDis)\n",
    "\n",
    "height, width = ctrImg.shape\n",
    "image = copy.deepcopy(ctrImg)\n",
    "\n",
    "    #checking\n",
    "new = newCoorDis[0]\n",
    "for i in range(150):\n",
    "    image[int(new[0])][int(new[1]) + i] = 255\n",
    "    "
   ]
  },
  {
   "cell_type": "code",
   "execution_count": 69,
   "metadata": {
    "collapsed": true
   },
   "outputs": [],
   "source": [
    "whiteDis = float(570)\n",
    "r = []\n",
    "c = []\n",
    "for i in range(len(newCoorDis)):\n",
    "    if newCoorDis[i][0] > whiteDis:\n",
    "        newCoorDis[i][2] = 0\n",
    "        \n",
    "distancess = []\n",
    "for i in range(len(newCoorDis)):\n",
    "    distancess.append(newCoorDis[i][2])\n",
    "distancess = np.array(distancess)"
   ]
  },
  {
   "cell_type": "code",
   "execution_count": 70,
   "metadata": {
    "collapsed": true
   },
   "outputs": [],
   "source": [
    "def getPeak(Data, i, s):\n",
    "    if (i-s) < 1:\n",
    "        top = 0\n",
    "    else:\n",
    "        top = i - s - 1\n",
    "    y = Data[1]\n",
    "    \n",
    "    if (i+s) > len(y):\n",
    "        bottom = len(y) - 1\n",
    "    else:\n",
    "        bottom = i + s - 1\n",
    "    p = []\n",
    "    if y[i] == max(y[top:bottom]) or y[i] == min(y[top:bottom]):\n",
    "        p = [Data[0][i], Data[1][i]]\n",
    "    else:\n",
    "        p.append(float('nan'))\n",
    "        p.append(float('nan'))\n",
    "    return p"
   ]
  },
  {
   "cell_type": "code",
   "execution_count": 71,
   "metadata": {
    "collapsed": true
   },
   "outputs": [],
   "source": [
    "def fpeak(sumbuX, distancess, s):\n",
    "    rx = len(sumbuX)\n",
    "    ry = len(distancess)\n",
    "    if s == 0:\n",
    "        s = 1\n",
    "    Data = np.vstack((sumbuX, distancess))\n",
    "    output = []\n",
    "    for i in range(rx):\n",
    "        isP= getPeak(Data, i, s)\n",
    "        if np.isnan(isP).sum() == 0:\n",
    "            output.append(isP)\n",
    "    return output"
   ]
  },
  {
   "cell_type": "code",
   "execution_count": 72,
   "metadata": {
    "collapsed": true
   },
   "outputs": [],
   "source": [
    "s = 50\n",
    "output = fpeak(sumbuX, distancess, s)\n",
    "\n",
    "for i in range(len(output)):\n",
    "    if i == len(output) - 1:\n",
    "        output[i].append(0)\n",
    "        break\n",
    "    if output[i][1] == output[i+1][1]:\n",
    "        output[i].append(1)\n",
    "    else:\n",
    "        output[i].append(0)\n",
    "\n",
    "improveOut = []\n",
    "for i in output:\n",
    "    if i[2] == float(0):\n",
    "        improveOut.append(i)\n",
    "# sorted(improveOut, reverse=True)\n",
    "output = improveOut"
   ]
  },
  {
   "cell_type": "code",
   "execution_count": null,
   "metadata": {
    "collapsed": true
   },
   "outputs": [],
   "source": [
    "pixelP1 = output[0][0]\n",
    "pixelP2 = output[6][0]\n",
    "coorP1 = [newCoorDis[int(pixelP1)][0], newCoorDis[int(pixelP1)][1]]\n",
    "coorP2 = [newCoorDis[int(pixelP2)][0], newCoorDis[int(pixelP2)][1]]\n",
    "\n",
    "# kemiringan p1 dam p2\n",
    "temp = (coorP2[1] - coorP1[1]) / (coorP2[0] - coorP1[0])\n",
    "deg = math.atan(temp) / math.pi * 180\n",
    "\n",
    "newImg = misc.imrotate(img_rotate,90 - deg,interp='bilinear')\n",
    "\n",
    "temp = np.zeros_like(img)\n",
    "height, width = img.shape\n",
    "temp[int(coorP1[0])][int(coorP1[1])] = 255\n",
    "temp[int(coorP2[0])][int(coorP2[1])] = 255\n",
    "\n",
    "tempRotate = misc.imrotate(temp,90 - deg,interp='bilinear')\n",
    "\n",
    "tempIndex = np.argwhere(tempRotate>0)\n",
    "\n",
    "newCoorP1 = [tempIndex[0][0], tempIndex[0][1]]\n",
    "newCoorP2 = [tempIndex[len(tempIndex)-1][0], tempIndex[len(tempIndex)-1][1]]\n",
    "\n",
    "a = math.pow((newCoorP1[0]-newCoorP2[0]),2)\n",
    "b = math.pow((newCoorP1[1]-newCoorP2[1]),2)\n",
    "distance = math.sqrt(a+b)\n",
    "distance = int(distance)\n",
    "image = copy.deepcopy(newImg)\n",
    "#     ROI output\n",
    "fiturI = newImg[int(newCoorP1[0]):int(newCoorP1[0]+distance), int(newCoorP1[1]):int(newCoorP1[1]+distance)]\n",
    "for a in range(distance):\n",
    "    for b in range(distance):\n",
    "        if (a+newCoorP1[0]) < height and (b+newCoorP1[1]) < width:\n",
    "            image[a+newCoorP1[0]][b+newCoorP1[1]] = 255"
   ]
  },
  {
   "cell_type": "code",
   "execution_count": 10,
   "metadata": {},
   "outputs": [
    {
     "name": "stdout",
     "output_type": "stream",
     "text": [
      "[[0 0 0 0 0]\n",
      " [0 0 1 1 0]\n",
      " [0 1 1 1 0]\n",
      " [0 1 1 1 1]\n",
      " [0 0 1 1 1]\n",
      " [0 0 0 0 0]]\n",
      "[[0]\n",
      " [0]\n",
      " [1]\n",
      " [1]\n",
      " [0]\n",
      " [0]]\n",
      "2\n"
     ]
    }
   ],
   "source": [
    "img = [[0,0,0,0,0],\n",
    "      [0,0,1,1,0],\n",
    "      [0,1,1,1,0],\n",
    "      [0,1,1,1,1],\n",
    "      [0,0,1,1,1],\n",
    "      [0,0,0,0,0]]\n",
    "img = np.array(img)\n",
    "column = np.argwhere(np.any(img==1, axis = 0))\n",
    "c = int(column[0])\n",
    "print(img)\n",
    "\n",
    "row_columnX = img[:,c:c+1]\n",
    "print(row_columnX)\n",
    "row = np.argwhere(np.any(row_columnX==1, axis = 1))[0]\n",
    "r = row[0]\n",
    "print(r)"
   ]
  },
  {
   "cell_type": "code",
   "execution_count": null,
   "metadata": {
    "collapsed": true
   },
   "outputs": [],
   "source": []
  }
 ],
 "metadata": {
  "kernelspec": {
   "display_name": "Python 3",
   "language": "python",
   "name": "python3"
  },
  "language_info": {
   "codemirror_mode": {
    "name": "ipython",
    "version": 3
   },
   "file_extension": ".py",
   "mimetype": "text/x-python",
   "name": "python",
   "nbconvert_exporter": "python",
   "pygments_lexer": "ipython3",
   "version": "3.6.6"
  }
 },
 "nbformat": 4,
 "nbformat_minor": 2
}
